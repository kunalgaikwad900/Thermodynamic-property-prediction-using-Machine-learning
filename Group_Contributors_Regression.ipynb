{
  "nbformat": 4,
  "nbformat_minor": 0,
  "metadata": {
    "colab": {
      "name": "Group Contributors Regression.ipynb",
      "provenance": [],
      "collapsed_sections": []
    },
    "kernelspec": {
      "name": "python3",
      "display_name": "Python 3"
    },
    "language_info": {
      "name": "python"
    }
  },
  "cells": [
    {
      "cell_type": "code",
      "execution_count": null,
      "metadata": {
        "colab": {
          "base_uri": "https://localhost:8080/"
        },
        "id": "J8XMJJsHPt_K",
        "outputId": "bece0033-d3c7-4e4e-f9fb-454093d080ac"
      },
      "outputs": [
        {
          "output_type": "stream",
          "name": "stdout",
          "text": [
            "Mounted at /content/gdrive\n"
          ]
        }
      ],
      "source": [
        "from google.colab import drive\n",
        "drive.mount('/content/gdrive',force_remount=True)"
      ]
    },
    {
      "cell_type": "code",
      "source": [
        "import os \n",
        "os.chdir('/content/gdrive/MyDrive/Project')"
      ],
      "metadata": {
        "id": "zHUsnwJcP-Aa"
      },
      "execution_count": null,
      "outputs": []
    },
    {
      "cell_type": "code",
      "source": [
        "import numpy as np \n",
        "import pandas as pd\n",
        "import matplotlib.pyplot as plt\n",
        "import sklearn\n",
        "from sklearn.metrics import mean_squared_error, r2_score\n",
        "from sklearn.model_selection import train_test_split\n",
        "from sklearn import datasets, linear_model\n",
        "from sklearn.preprocessing import PolynomialFeatures\n",
        "from sklearn.svm import SVR\n",
        "from sklearn.tree import DecisionTreeRegressor\n",
        "from sklearn.linear_model import Ridge\n",
        "from sklearn.kernel_ridge import KernelRidge\n",
        "from sklearn.ensemble import RandomForestRegressor\n",
        "from sklearn.neighbors import KNeighborsRegressor\n",
        "import keras\n",
        "import tensorflow as tf\n",
        "from keras.models import Sequential\n",
        "from keras.layers import Dense\n",
        "from sklearn.gaussian_process import GaussianProcessRegressor\n",
        "from sklearn.gaussian_process.kernels import DotProduct, WhiteKernel"
      ],
      "metadata": {
        "id": "ZqZrO0kMR7fB"
      },
      "execution_count": null,
      "outputs": []
    },
    {
      "cell_type": "code",
      "source": [
        "Total_pKa=pd.read_csv('pKa.csv')\n",
        "Total_hfus=pd.read_csv('hfus.csv')"
      ],
      "metadata": {
        "id": "17ZvhwF1Sg1i"
      },
      "execution_count": null,
      "outputs": []
    },
    {
      "cell_type": "code",
      "source": [
        "Y_pka=pd.read_csv('pKa.csv').iloc[:,1]\n",
        "Y_hfus=pd.read_csv('hfus.csv').iloc[:,1]"
      ],
      "metadata": {
        "id": "BrPK9N67Whfy"
      },
      "execution_count": null,
      "outputs": []
    },
    {
      "cell_type": "code",
      "source": [
        "X_pka=pd.read_csv('pKa.csv').iloc[:,2:426]\n",
        "X_hfus=pd.read_csv('hfus.csv').iloc[:,2:426]"
      ],
      "metadata": {
        "id": "5-f4rXKNXTC3"
      },
      "execution_count": null,
      "outputs": []
    },
    {
      "cell_type": "code",
      "source": [
        "Smiles=pd.read_csv('pKa.csv').iloc[:,0]"
      ],
      "metadata": {
        "id": "OrMmsc_jX2r5"
      },
      "execution_count": null,
      "outputs": []
    },
    {
      "cell_type": "code",
      "source": [
        "X_pka_train, X_pka_tmp, y_pka_train, y_pka_tmp = train_test_split(X_pka,Y_pka, test_size=0.2)\n",
        "X_pka_valid, X_pka_test, y_pka_valid, y_pka_test = train_test_split(X_pka_tmp,y_pka_tmp, test_size=0.5)\n",
        "X_hfus_train, X_hfus_tmp, y_hfus_train, y_hfus_tmp = train_test_split(X_hfus,Y_hfus, test_size=0.2)\n",
        "X_hfus_valid, X_hfus_test, y_hfus_valid, y_hfus_test = train_test_split(X_hfus_tmp,y_hfus_tmp, test_size=0.5)"
      ],
      "metadata": {
        "id": "J36vcsudbIrG"
      },
      "execution_count": null,
      "outputs": []
    },
    {
      "cell_type": "markdown",
      "source": [
        "**Linear Regression**"
      ],
      "metadata": {
        "id": "pys_dbk6fQpq"
      }
    },
    {
      "cell_type": "code",
      "source": [
        "Linregr_pka = linear_model.ElasticNet(alpha=0.01,random_state=400,l1_ratio=0.1)\n",
        "Linregr_pka.fit(X_pka_train, y_pka_train)\n",
        "Linregr_hfus = linear_model.ElasticNet(alpha=0.001,random_state=400,l1_ratio=0.1)\n",
        "Linregr_hfus.fit(X_hfus_train, y_hfus_train)"
      ],
      "metadata": {
        "colab": {
          "base_uri": "https://localhost:8080/"
        },
        "id": "QSkkcVU4fXfI",
        "outputId": "b7fbd1b5-26fd-43ce-c451-af8319a57b75"
      },
      "execution_count": null,
      "outputs": [
        {
          "output_type": "execute_result",
          "data": {
            "text/plain": [
              "ElasticNet(alpha=0.001, l1_ratio=0.1, random_state=400)"
            ]
          },
          "metadata": {},
          "execution_count": 60
        }
      ]
    },
    {
      "cell_type": "code",
      "source": [
        "y_Linpred_valid_pka = Linregr_pka.predict(X_pka_valid)\n",
        "print('Coefficient of determination for validation case for pKa: {}'.format(r2_score(y_pka_valid,y_Linpred_valid_pka)))\n",
        "y_Linpred_valid_hfus = Linregr_hfus.predict(X_hfus_valid)\n",
        "print('Coefficient of determination for validation case for Heat of fusion: {}'.format(r2_score(y_hfus_valid,y_Linpred_valid_hfus)))"
      ],
      "metadata": {
        "colab": {
          "base_uri": "https://localhost:8080/"
        },
        "id": "RZZVDftNf146",
        "outputId": "7185b5e3-707f-4e6e-ce49-f6d737bc6275"
      },
      "execution_count": null,
      "outputs": [
        {
          "output_type": "stream",
          "name": "stdout",
          "text": [
            "Coefficient of determination for validation case for pKa: 0.21579485636386997\n",
            "Coefficient of determination for validation case for Heat of fusion: 0.4933624960838602\n"
          ]
        }
      ]
    },
    {
      "cell_type": "code",
      "source": [
        "y_Linpred_test_pka = Linregr_pka.predict(X_pka_test)\n",
        "print('Coefficient of determination for test case for pKa: {}'.format(r2_score(y_pka_test,y_Linpred_test_pka)))\n",
        "y_Linpred_test_hfus = Linregr_hfus.predict(X_hfus_test)\n",
        "print('Coefficient of determination for test case for Heat of fusion: {}'.format(r2_score(y_hfus_test,y_Linpred_test_hfus)))"
      ],
      "metadata": {
        "colab": {
          "base_uri": "https://localhost:8080/"
        },
        "id": "PW3m_YLhodJb",
        "outputId": "3640742f-830d-41df-9d7b-ff650d7053f0"
      },
      "execution_count": null,
      "outputs": [
        {
          "output_type": "stream",
          "name": "stdout",
          "text": [
            "Coefficient of determination for test case for pKa: 0.2481709207312216\n",
            "Coefficient of determination for test case for Heat of fusion: 0.8897337465683952\n"
          ]
        }
      ]
    },
    {
      "cell_type": "markdown",
      "source": [
        "**Polynomial Regression**"
      ],
      "metadata": {
        "id": "TyDtzjDZkvU9"
      }
    },
    {
      "cell_type": "code",
      "source": [
        "pf_pka=PolynomialFeatures(degree=2)\n",
        "pka_new=pf_pka.fit_transform(X_pka_train)\n",
        "pf_hfus=PolynomialFeatures(degree=2)\n",
        "hfus_new=pf_hfus.fit_transform(X_hfus_train)"
      ],
      "metadata": {
        "id": "ZuZM8VHYjwio"
      },
      "execution_count": null,
      "outputs": []
    },
    {
      "cell_type": "code",
      "source": [
        "polyregr_pka = linear_model.ElasticNet(alpha=0.1,random_state=300,l1_ratio=0.1,max_iter=1000)\n",
        "polyregr_pka.fit(pka_new, y_pka_train)\n",
        "polyregr_hfus = linear_model.ElasticNet(alpha=0.3,random_state=300,l1_ratio=0.1,max_iter=1000)\n",
        "polyregr_hfus.fit(hfus_new, y_hfus_train)"
      ],
      "metadata": {
        "id": "xnj--ZLFseMv",
        "colab": {
          "base_uri": "https://localhost:8080/"
        },
        "outputId": "4dcef16a-6880-4985-f00a-a6fc76b8182d"
      },
      "execution_count": null,
      "outputs": [
        {
          "output_type": "execute_result",
          "data": {
            "text/plain": [
              "ElasticNet(alpha=0.3, l1_ratio=0.1, random_state=300)"
            ]
          },
          "metadata": {},
          "execution_count": 67
        }
      ]
    },
    {
      "cell_type": "code",
      "source": [
        "y_polypred_valid_pka = polyregr_pka.predict(pf_pka.transform(X_pka_valid))\n",
        "y_polypred_valid_hfus = polyregr_hfus.predict(pf_hfus.transform(X_hfus_valid))\n",
        "print('Coefficient of determination for validation case for pKa: {}'.format(r2_score(y_pka_valid,y_polypred_valid_pka)))\n",
        "print('Coefficient of determination for validation case for Heat of fusion: {}'.format(r2_score(y_hfus_valid,y_polypred_valid_hfus)))"
      ],
      "metadata": {
        "id": "hISnwdEnst2G",
        "colab": {
          "base_uri": "https://localhost:8080/"
        },
        "outputId": "53f437ac-b3c2-4655-b282-b602eb534570"
      },
      "execution_count": null,
      "outputs": [
        {
          "output_type": "stream",
          "name": "stdout",
          "text": [
            "Coefficient of determination for validation case for pKa: 0.05055952943652853\n",
            "Coefficient of determination for validation case for Heat of fusion: 0.6246916874552519\n"
          ]
        }
      ]
    },
    {
      "cell_type": "code",
      "source": [
        "y_polypred_test_pka = polyregr_pka.predict(pf_pka.transform(X_pka_test))\n",
        "y_polypred_test_hfus = polyregr_hfus.predict(pf_hfus.transform(X_hfus_test))\n",
        "print('Coefficient of determination for test case for pKa: {}'.format(r2_score(y_pka_test,y_polypred_test_pka)))\n",
        "print('Coefficient of determination for test case for Heat of fusion: {}'.format(r2_score(y_hfus_test,y_polypred_test_hfus)))"
      ],
      "metadata": {
        "id": "dZxoeh9DxDRc",
        "colab": {
          "base_uri": "https://localhost:8080/"
        },
        "outputId": "ec0f0d65-e479-453c-d15a-8562b4449cf8"
      },
      "execution_count": null,
      "outputs": [
        {
          "output_type": "stream",
          "name": "stdout",
          "text": [
            "Coefficient of determination for test case for pKa: 0.2645463994874475\n",
            "Coefficient of determination for test case for Heat of fusion: 0.8637619946668662\n"
          ]
        }
      ]
    },
    {
      "cell_type": "markdown",
      "source": [
        "**Support Vector Regression**"
      ],
      "metadata": {
        "id": "Gd5UF8sS0JDR"
      }
    },
    {
      "cell_type": "markdown",
      "source": [
        "**Linear kernel**"
      ],
      "metadata": {
        "id": "aHvTLI_eQtBn"
      }
    },
    {
      "cell_type": "code",
      "source": [
        "svr_pka_linear = SVR(kernel='linear',C=1.842,epsilon=0.002)\n",
        "svr_pka_linear.fit(X_pka_train, y_pka_train)\n",
        "\n",
        "svr_hfus_linear = SVR(kernel='linear',C=1.389,epsilon=0.002)\n",
        "svr_hfus_linear.fit(X_hfus_train, y_hfus_train)"
      ],
      "metadata": {
        "id": "D3Y68snJQvcu",
        "colab": {
          "base_uri": "https://localhost:8080/"
        },
        "outputId": "ff9de99a-1f4b-4b02-b0be-ec8bf15da38b"
      },
      "execution_count": null,
      "outputs": [
        {
          "output_type": "execute_result",
          "data": {
            "text/plain": [
              "SVR(C=1.389, epsilon=0.002, kernel='linear')"
            ]
          },
          "metadata": {},
          "execution_count": 85
        }
      ]
    },
    {
      "cell_type": "code",
      "source": [
        "y_pred_linear_pka_valid = svr_pka_linear.predict(X_pka_valid)\n",
        "y_pred_linear_hfus_valid = svr_hfus_linear.predict(X_hfus_valid)\n",
        "print('Coefficient of determination for validation case: {}'.format(r2_score(y_pka_valid, y_pred_linear_pka_valid)))\n",
        "print('Coefficient of determination for validation case: {}'.format(r2_score(y_hfus_valid, y_pred_linear_hfus_valid)))"
      ],
      "metadata": {
        "id": "Ur3wK1-GQwT8",
        "colab": {
          "base_uri": "https://localhost:8080/"
        },
        "outputId": "35c057a4-27c6-4571-8f81-1599ca269ac3"
      },
      "execution_count": null,
      "outputs": [
        {
          "output_type": "stream",
          "name": "stdout",
          "text": [
            "Coefficient of determination for validation case: -0.10767230026640306\n",
            "Coefficient of determination for validation case: 0.6153551999091745\n"
          ]
        }
      ]
    },
    {
      "cell_type": "code",
      "source": [
        "y_pred_linear_pka_test = svr_pka_linear.predict(X_pka_test)\n",
        "y_pred_linear_hfus_test = svr_hfus_linear.predict(X_hfus_test)\n",
        "print('Coefficient of determination for test case: {}'.format(r2_score(y_pka_test, y_pred_linear_pka_test)))\n",
        "print('Coefficient of determination for test case: {}'.format(r2_score(y_hfus_test, y_pred_linear_hfus_test)))"
      ],
      "metadata": {
        "id": "A0IrupJFQx1q",
        "colab": {
          "base_uri": "https://localhost:8080/"
        },
        "outputId": "211e5e44-bc08-4361-e5bb-b7afdee68567"
      },
      "execution_count": null,
      "outputs": [
        {
          "output_type": "stream",
          "name": "stdout",
          "text": [
            "Coefficient of determination for test case: 0.2871766320703011\n",
            "Coefficient of determination for test case: 0.9056301314614107\n"
          ]
        }
      ]
    },
    {
      "cell_type": "markdown",
      "source": [
        "**Polynomial kernel**"
      ],
      "metadata": {
        "id": "Wx0JnbS3Q2bX"
      }
    },
    {
      "cell_type": "code",
      "source": [
        "svr_pka_poly = SVR(kernel='poly',degree=2,C=0.4,epsilon=0.02)\n",
        "svr_pka_poly.fit(X_pka_train, y_pka_train)\n",
        "\n",
        "svr_hfus_poly = SVR(kernel='poly',degree=2,C=100,epsilon=0.05)\n",
        "svr_hfus_poly.fit(X_hfus_train, y_hfus_train)"
      ],
      "metadata": {
        "id": "e17UukHBQ5hG",
        "colab": {
          "base_uri": "https://localhost:8080/"
        },
        "outputId": "cbc00747-c357-4677-eec6-61c395c6659f"
      },
      "execution_count": null,
      "outputs": [
        {
          "output_type": "execute_result",
          "data": {
            "text/plain": [
              "SVR(C=100, degree=2, epsilon=0.05, kernel='poly')"
            ]
          },
          "metadata": {},
          "execution_count": 19
        }
      ]
    },
    {
      "cell_type": "code",
      "source": [
        "y_pred_poly_pka_valid = svr_pka_poly.predict(X_pka_valid)\n",
        "y_pred_poly_hfus_valid = svr_hfus_poly.predict(X_hfus_valid)\n",
        "print('Coefficient of determination for validation case: {}'.format(r2_score(y_pka_valid, y_pred_poly_pka_valid)))\n",
        "print('Coefficient of determination for validation case: {}'.format(r2_score(y_hfus_valid, y_pred_poly_hfus_valid)))"
      ],
      "metadata": {
        "id": "rLtSrOhpQ6r2",
        "colab": {
          "base_uri": "https://localhost:8080/"
        },
        "outputId": "a72be88e-bab0-4176-e35b-e5ea0e95c203"
      },
      "execution_count": null,
      "outputs": [
        {
          "output_type": "stream",
          "name": "stdout",
          "text": [
            "Coefficient of determination for validation case: 0.18818897827314085\n",
            "Coefficient of determination for validation case: 0.5713270529948142\n"
          ]
        }
      ]
    },
    {
      "cell_type": "code",
      "source": [
        "y_pred_poly_pka_test = svr_pka_poly.predict(X_pka_test)\n",
        "y_pred_poly_hfus_test = svr_hfus_poly.predict(X_hfus_test)\n",
        "print('Coefficient of determination for test case: {}'.format(r2_score(y_pka_test, y_pred_poly_pka_test)))\n",
        "print('Coefficient of determination for test case: {}'.format(r2_score(y_hfus_test, y_pred_poly_hfus_test)))"
      ],
      "metadata": {
        "id": "WMG5hC7YQ73W",
        "colab": {
          "base_uri": "https://localhost:8080/"
        },
        "outputId": "7becc1dd-b748-4e14-d10d-a5306e7024fa"
      },
      "execution_count": null,
      "outputs": [
        {
          "output_type": "stream",
          "name": "stdout",
          "text": [
            "Coefficient of determination for test case: 0.1621354675280553\n",
            "Coefficient of determination for test case: 0.8695656198101545\n"
          ]
        }
      ]
    },
    {
      "cell_type": "markdown",
      "source": [
        "**Rbf Kernel**"
      ],
      "metadata": {
        "id": "GP8jQr-LQcgn"
      }
    },
    {
      "cell_type": "code",
      "source": [
        "svr_pka = SVR(kernel='rbf',C=60,epsilon=0.01)\n",
        "svr_pka.fit(X_pka_train, y_pka_train)\n",
        "\n",
        "svr_hfus = SVR(kernel='rbf',C=60,epsilon=0.01)\n",
        "svr_hfus.fit(X_hfus_train, y_hfus_train)"
      ],
      "metadata": {
        "id": "qR-SGbHX0NDO",
        "colab": {
          "base_uri": "https://localhost:8080/"
        },
        "outputId": "da863b4f-72e3-4580-84b4-46f2eeec35ab"
      },
      "execution_count": null,
      "outputs": [
        {
          "output_type": "execute_result",
          "data": {
            "text/plain": [
              "SVR(C=60, epsilon=0.01)"
            ]
          },
          "metadata": {},
          "execution_count": 22
        }
      ]
    },
    {
      "cell_type": "code",
      "source": [
        "y_pred_rbf_pka_valid = svr_pka.predict(X_pka_valid)\n",
        "y_pred_rbf_hfus_valid = svr_hfus.predict(X_hfus_valid)\n",
        "print('Coefficient of determination for validation case: {}'.format(r2_score(y_pka_valid, y_pred_rbf_pka_valid)))\n",
        "print('Coefficient of determination for validation case: {}'.format(r2_score(y_hfus_valid, y_pred_rbf_hfus_valid)))"
      ],
      "metadata": {
        "id": "tHPJ_PVL5DLd",
        "colab": {
          "base_uri": "https://localhost:8080/"
        },
        "outputId": "795887f4-ca71-4dd5-e93e-c165cfb33969"
      },
      "execution_count": null,
      "outputs": [
        {
          "output_type": "stream",
          "name": "stdout",
          "text": [
            "Coefficient of determination for validation case: 0.3742975048832139\n",
            "Coefficient of determination for validation case: 0.6926307862528139\n"
          ]
        }
      ]
    },
    {
      "cell_type": "code",
      "source": [
        "y_pred_rbf_pka_test = svr_pka.predict(X_pka_test)\n",
        "y_pred_rbf_hfus_test = svr_hfus.predict(X_hfus_test)\n",
        "print('Coefficient of determination for test case: {}'.format(r2_score(y_pka_test, y_pred_rbf_pka_test)))\n",
        "print('Coefficient of determination for test case: {}'.format(r2_score(y_hfus_test, y_pred_rbf_hfus_test)))"
      ],
      "metadata": {
        "id": "OL5bVmz35hps",
        "colab": {
          "base_uri": "https://localhost:8080/"
        },
        "outputId": "25601774-b8d0-4b89-ad6a-9152c0575b80"
      },
      "execution_count": null,
      "outputs": [
        {
          "output_type": "stream",
          "name": "stdout",
          "text": [
            "Coefficient of determination for test case: 0.37758001944582764\n",
            "Coefficient of determination for test case: 0.9042218434227742\n"
          ]
        }
      ]
    },
    {
      "cell_type": "markdown",
      "source": [
        "**Decision Tree**"
      ],
      "metadata": {
        "id": "3CQSi-ktRbdF"
      }
    },
    {
      "cell_type": "code",
      "source": [
        "dt_regr_pka = DecisionTreeRegressor(max_depth=13,criterion='squared_error',random_state=200)\n",
        "dt_regr_hfus = DecisionTreeRegressor(max_depth=9,criterion='squared_error',random_state=200)\n",
        "dt_regr_pka.fit(X_pka_train, y_pka_train)\n",
        "dt_regr_hfus.fit(X_hfus_train, y_hfus_train)"
      ],
      "metadata": {
        "id": "fEJlrYOcSU2s",
        "colab": {
          "base_uri": "https://localhost:8080/"
        },
        "outputId": "ab250f65-3fde-4bd6-d782-3dd942c06a9b"
      },
      "execution_count": null,
      "outputs": [
        {
          "output_type": "execute_result",
          "data": {
            "text/plain": [
              "DecisionTreeRegressor(max_depth=9, random_state=200)"
            ]
          },
          "metadata": {},
          "execution_count": 25
        }
      ]
    },
    {
      "cell_type": "code",
      "source": [
        "y_pred_dtse_pka_valid = dt_regr_pka.predict(X_pka_valid)\n",
        "y_pred_dtse_hfus_valid = dt_regr_hfus.predict(X_hfus_valid)\n",
        "print('Coefficient of determination for validation case: {}'.format(r2_score(y_pka_valid, y_pred_dtse_pka_valid)))\n",
        "print('Coefficient of determination for validation case: {}'.format(r2_score(y_hfus_valid, y_pred_dtse_hfus_valid)))"
      ],
      "metadata": {
        "id": "cCA3trCWVE1L",
        "colab": {
          "base_uri": "https://localhost:8080/"
        },
        "outputId": "48bc6c20-3a04-4b2d-b676-1f0e89fa4bb6"
      },
      "execution_count": null,
      "outputs": [
        {
          "output_type": "stream",
          "name": "stdout",
          "text": [
            "Coefficient of determination for validation case: 0.2462267510463254\n",
            "Coefficient of determination for validation case: 0.44290469335700033\n"
          ]
        }
      ]
    },
    {
      "cell_type": "code",
      "source": [
        "y_pred_dtse_pka_test = dt_regr_pka.predict(X_pka_test)\n",
        "y_pred_dtse_hfus_test = dt_regr_hfus.predict(X_hfus_test)\n",
        "print('Coefficient of determination for test case: {}'.format(r2_score(y_pka_test, y_pred_dtse_pka_test)))\n",
        "print('Coefficient of determination for test case: {}'.format(r2_score(y_hfus_test, y_pred_dtse_hfus_test)))"
      ],
      "metadata": {
        "id": "DqO_cZkAWOHj",
        "colab": {
          "base_uri": "https://localhost:8080/"
        },
        "outputId": "b1ddb257-52ea-4728-c9bd-c65ef2b1549a"
      },
      "execution_count": null,
      "outputs": [
        {
          "output_type": "stream",
          "name": "stdout",
          "text": [
            "Coefficient of determination for test case: 0.3075193543939314\n",
            "Coefficient of determination for test case: 0.8191307654662405\n"
          ]
        }
      ]
    },
    {
      "cell_type": "markdown",
      "source": [
        "**Ridge Regression**"
      ],
      "metadata": {
        "id": "o2XP_xWYX0FR"
      }
    },
    {
      "cell_type": "code",
      "source": [
        "ridge_regr_pka = Ridge(alpha=8)\n",
        "ridge_regr_hfus = Ridge(alpha=8)\n",
        "ridge_regr_pka.fit(X_pka_train, y_pka_train)\n",
        "ridge_regr_hfus.fit(X_hfus_train, y_hfus_train)"
      ],
      "metadata": {
        "id": "eUZpFa1GX3CY",
        "colab": {
          "base_uri": "https://localhost:8080/"
        },
        "outputId": "8af21cac-e40d-4b07-a18b-791020075fbf"
      },
      "execution_count": null,
      "outputs": [
        {
          "output_type": "execute_result",
          "data": {
            "text/plain": [
              "Ridge(alpha=8)"
            ]
          },
          "metadata": {},
          "execution_count": 28
        }
      ]
    },
    {
      "cell_type": "code",
      "source": [
        "y_pred_ridreg_pka_valid = ridge_regr_pka.predict(X_pka_valid)\n",
        "y_pred_ridreg_hfus_valid = ridge_regr_hfus.predict(X_hfus_valid)\n",
        "print('Coefficient of determination for validation case: {}'.format(r2_score(y_pka_valid, y_pred_ridreg_pka_valid)))\n",
        "print('Coefficient of determination for validation case: {}'.format(r2_score(y_hfus_valid, y_pred_ridreg_hfus_valid)))"
      ],
      "metadata": {
        "id": "QgrFDfCAZTrI",
        "colab": {
          "base_uri": "https://localhost:8080/"
        },
        "outputId": "770090eb-e2b2-4aef-fd01-c9db4f695a88"
      },
      "execution_count": null,
      "outputs": [
        {
          "output_type": "stream",
          "name": "stdout",
          "text": [
            "Coefficient of determination for validation case: 0.178481375857945\n",
            "Coefficient of determination for validation case: 0.5549150398097976\n"
          ]
        }
      ]
    },
    {
      "cell_type": "code",
      "source": [
        "y_pred_ridreg_pka_test = ridge_regr_pka.predict(X_pka_test)\n",
        "y_pred_ridreg_hfus_test = ridge_regr_hfus.predict(X_hfus_test)\n",
        "print('Coefficient of determination for test case: {}'.format(r2_score(y_pka_test, y_pred_ridreg_pka_test)))\n",
        "print('Coefficient of determination for test case: {}'.format(r2_score(y_hfus_test,y_pred_ridreg_hfus_test)))"
      ],
      "metadata": {
        "id": "_KpUG23OZe14",
        "colab": {
          "base_uri": "https://localhost:8080/"
        },
        "outputId": "e3400f8b-9d8b-423f-8fa2-1a2029bbf877"
      },
      "execution_count": null,
      "outputs": [
        {
          "output_type": "stream",
          "name": "stdout",
          "text": [
            "Coefficient of determination for test case: 0.2509762003630561\n",
            "Coefficient of determination for test case: 0.895792301612385\n"
          ]
        }
      ]
    },
    {
      "cell_type": "markdown",
      "source": [
        "**Kernel Ridge-linear**"
      ],
      "metadata": {
        "id": "mmAdTVOKZ1tY"
      }
    },
    {
      "cell_type": "code",
      "source": [
        "kernelridge_linear_regr_pka = KernelRidge(alpha=1.52,kernel='linear')\n",
        "kernelridge_linear_regr_hfus = KernelRidge(alpha=3.23,kernel='linear')\n",
        "kernelridge_linear_regr_pka.fit(X_pka_train, y_pka_train)\n",
        "kernelridge_linear_regr_hfus.fit(X_hfus_train, y_hfus_train)"
      ],
      "metadata": {
        "id": "MF5KfpakZ5v4",
        "colab": {
          "base_uri": "https://localhost:8080/"
        },
        "outputId": "b6201d20-5562-4cae-effd-777ac80b9a1a"
      },
      "execution_count": null,
      "outputs": [
        {
          "output_type": "execute_result",
          "data": {
            "text/plain": [
              "KernelRidge(alpha=3.23)"
            ]
          },
          "metadata": {},
          "execution_count": 90
        }
      ]
    },
    {
      "cell_type": "code",
      "source": [
        "y_pred_kerreg_linear_pka_valid = kernelridge_linear_regr_pka.predict(X_pka_valid)\n",
        "y_pred_kerreg_linear_hfus_valid = kernelridge_linear_regr_hfus.predict(X_hfus_valid)\n",
        "print('Coefficient of determination for validation case: {}'.format(r2_score(y_pka_valid, y_pred_kerreg_linear_pka_valid)))\n",
        "print('Coefficient of determination for validation case: {}'.format(r2_score(y_hfus_valid, y_pred_kerreg_linear_hfus_valid)))"
      ],
      "metadata": {
        "id": "2O2iLXdsanjP",
        "colab": {
          "base_uri": "https://localhost:8080/"
        },
        "outputId": "c601c451-34b1-4026-9bc2-87a621b92c56"
      },
      "execution_count": null,
      "outputs": [
        {
          "output_type": "stream",
          "name": "stdout",
          "text": [
            "Coefficient of determination for validation case: -0.013763264411316367\n",
            "Coefficient of determination for validation case: 0.6103239367057893\n"
          ]
        }
      ]
    },
    {
      "cell_type": "code",
      "source": [
        "y_pred_kerreg_linear_pka_test = kernelridge_linear_regr_pka.predict(X_pka_test)\n",
        "y_pred_kerreg_linear_hfus_test = kernelridge_linear_regr_hfus.predict(X_hfus_test)\n",
        "print('Coefficient of determination for test case: {}'.format(r2_score(y_pka_test, y_pred_kerreg_linear_pka_test)))\n",
        "print('Coefficient of determination for test case: {}'.format(r2_score(y_hfus_test,y_pred_kerreg_linear_hfus_test)))"
      ],
      "metadata": {
        "id": "HgS40OtAanSf",
        "colab": {
          "base_uri": "https://localhost:8080/"
        },
        "outputId": "87543b28-8520-4c69-b3a8-8ae5998c2963"
      },
      "execution_count": null,
      "outputs": [
        {
          "output_type": "stream",
          "name": "stdout",
          "text": [
            "Coefficient of determination for test case: 0.28220846651342757\n",
            "Coefficient of determination for test case: 0.8922504777552989\n"
          ]
        }
      ]
    },
    {
      "cell_type": "markdown",
      "source": [
        "**Kernel Ridge-rbf**"
      ],
      "metadata": {
        "id": "SmhEvVBwa3ln"
      }
    },
    {
      "cell_type": "code",
      "source": [
        "kernelridge_rbf_regr_pka = KernelRidge(alpha=0.01,kernel='rbf')\n",
        "kernelridge_rbf_regr_hfus = KernelRidge(alpha=0.01,kernel='rbf')\n",
        "kernelridge_rbf_regr_pka.fit(X_pka_train, y_pka_train)\n",
        "kernelridge_rbf_regr_hfus.fit(X_hfus_train, y_hfus_train)"
      ],
      "metadata": {
        "id": "-05zkAgRa7T_",
        "colab": {
          "base_uri": "https://localhost:8080/"
        },
        "outputId": "84dc52e5-3cbb-4177-f3f6-26e782bb7358"
      },
      "execution_count": null,
      "outputs": [
        {
          "output_type": "execute_result",
          "data": {
            "text/plain": [
              "KernelRidge(alpha=0.01, kernel='rbf')"
            ]
          },
          "metadata": {},
          "execution_count": 34
        }
      ]
    },
    {
      "cell_type": "code",
      "source": [
        "y_pred_kerreg_rbf_pka_valid = kernelridge_rbf_regr_pka.predict(X_pka_valid)\n",
        "y_pred_kerreg_rbf_hfus_valid = kernelridge_rbf_regr_hfus.predict(X_hfus_valid)\n",
        "print('Coefficient of determination for validation case: {}'.format(r2_score(y_pka_valid, y_pred_kerreg_rbf_pka_valid)))\n",
        "print('Coefficient of determination for validation case: {}'.format(r2_score(y_hfus_valid, y_pred_kerreg_rbf_hfus_valid)))"
      ],
      "metadata": {
        "id": "KuumnF6Wa7yu",
        "colab": {
          "base_uri": "https://localhost:8080/"
        },
        "outputId": "9ecf4465-aced-40f4-8d25-8af13182bac8"
      },
      "execution_count": null,
      "outputs": [
        {
          "output_type": "stream",
          "name": "stdout",
          "text": [
            "Coefficient of determination for validation case: 0.11273203084042172\n",
            "Coefficient of determination for validation case: 0.6176468853729609\n"
          ]
        }
      ]
    },
    {
      "cell_type": "code",
      "source": [
        "y_pred_kerreg_rbf_pka_test = kernelridge_rbf_regr_pka.predict(X_pka_test)\n",
        "y_pred_kerreg_rbf_hfus_test = kernelridge_rbf_regr_hfus.predict(X_hfus_test)\n",
        "print('Coefficient of determination for test case: {}'.format(r2_score(y_pka_test, y_pred_kerreg_rbf_pka_test)))\n",
        "print('Coefficient of determination for test case: {}'.format(r2_score(y_hfus_test,y_pred_kerreg_rbf_hfus_test)))"
      ],
      "metadata": {
        "id": "bQVQPid5a8F_",
        "colab": {
          "base_uri": "https://localhost:8080/"
        },
        "outputId": "1883879a-b827-4650-84fc-bd6511c33cba"
      },
      "execution_count": null,
      "outputs": [
        {
          "output_type": "stream",
          "name": "stdout",
          "text": [
            "Coefficient of determination for test case: 0.3196322372230257\n",
            "Coefficient of determination for test case: 0.8962518682821817\n"
          ]
        }
      ]
    },
    {
      "cell_type": "markdown",
      "source": [
        "**Kernel Ridge-polynomial**"
      ],
      "metadata": {
        "id": "UZ5JSyVVbQFf"
      }
    },
    {
      "cell_type": "code",
      "source": [
        "kernelridge_poly_regr_pka = KernelRidge(alpha=0.001,kernel='poly',degree=2)\n",
        "kernelridge_poly_regr_hfus = KernelRidge(alpha=0.001,kernel='poly',degree=2)\n",
        "kernelridge_poly_regr_pka.fit(X_pka_train, y_pka_train)\n",
        "kernelridge_poly_regr_hfus.fit(X_hfus_train, y_hfus_train)"
      ],
      "metadata": {
        "id": "mkzR9QYbbRqf",
        "colab": {
          "base_uri": "https://localhost:8080/"
        },
        "outputId": "ebdb2c88-f0e1-425a-e68f-b19d29a6c20d"
      },
      "execution_count": null,
      "outputs": [
        {
          "output_type": "execute_result",
          "data": {
            "text/plain": [
              "KernelRidge(alpha=0.001, degree=2, kernel='poly')"
            ]
          },
          "metadata": {},
          "execution_count": 37
        }
      ]
    },
    {
      "cell_type": "code",
      "source": [
        "y_pred_kerreg_poly_pka_valid = kernelridge_poly_regr_pka.predict(X_pka_valid)\n",
        "y_pred_kerreg_poly_hfus_valid = kernelridge_poly_regr_hfus.predict(X_hfus_valid)\n",
        "print('Coefficient of determination for validation case: {}'.format(r2_score(y_pka_valid, y_pred_kerreg_poly_pka_valid)))\n",
        "print('Coefficient of determination for validation case: {}'.format(r2_score(y_hfus_valid, y_pred_kerreg_poly_hfus_valid)))"
      ],
      "metadata": {
        "id": "DTmbHYK2bSA_",
        "colab": {
          "base_uri": "https://localhost:8080/"
        },
        "outputId": "8e749cc8-3127-426d-e143-347c4f4e882d"
      },
      "execution_count": null,
      "outputs": [
        {
          "output_type": "stream",
          "name": "stdout",
          "text": [
            "Coefficient of determination for validation case: -0.29110580293291277\n",
            "Coefficient of determination for validation case: 0.5296411771336975\n"
          ]
        }
      ]
    },
    {
      "cell_type": "code",
      "source": [
        "y_pred_kerreg_poly_pka_test = kernelridge_poly_regr_pka.predict(X_pka_test)\n",
        "y_pred_kerreg_poly_hfus_test = kernelridge_poly_regr_hfus.predict(X_hfus_test)\n",
        "print('Coefficient of determination for test case: {}'.format(r2_score(y_pka_test, y_pred_kerreg_poly_pka_test)))\n",
        "print('Coefficient of determination for test case: {}'.format(r2_score(y_hfus_test,y_pred_kerreg_poly_hfus_test)))"
      ],
      "metadata": {
        "id": "1SI3DwjpbSWG",
        "colab": {
          "base_uri": "https://localhost:8080/"
        },
        "outputId": "ba889489-0394-48a7-ba8e-d07901c93468"
      },
      "execution_count": null,
      "outputs": [
        {
          "output_type": "stream",
          "name": "stdout",
          "text": [
            "Coefficient of determination for test case: 0.3416261308757603\n",
            "Coefficient of determination for test case: 0.871332945267997\n"
          ]
        }
      ]
    },
    {
      "cell_type": "markdown",
      "source": [
        "**Random forests**"
      ],
      "metadata": {
        "id": "PKKAX0Asbtlb"
      }
    },
    {
      "cell_type": "code",
      "source": [
        "rf_regr_pka = RandomForestRegressor(n_estimators=100,max_depth=18, random_state=200, criterion='squared_error',ccp_alpha=0.0005)\n",
        "rf_regr_hfus = RandomForestRegressor(n_estimators=100,max_depth=17, random_state=200, criterion='squared_error',ccp_alpha=0.0005)\n",
        "rf_regr_pka.fit(X_pka_train, y_pka_train)\n",
        "rf_regr_hfus.fit(X_hfus_train, y_hfus_train)"
      ],
      "metadata": {
        "id": "UxEDT7RvcW62",
        "colab": {
          "base_uri": "https://localhost:8080/"
        },
        "outputId": "10c8de94-ced9-4f87-b2a8-f1a74fb3f993"
      },
      "execution_count": null,
      "outputs": [
        {
          "output_type": "execute_result",
          "data": {
            "text/plain": [
              "RandomForestRegressor(ccp_alpha=0.0005, max_depth=17, random_state=200)"
            ]
          },
          "metadata": {},
          "execution_count": 98
        }
      ]
    },
    {
      "cell_type": "code",
      "source": [
        "y_pred_rf_pka_valid = rf_regr_pka.predict(X_pka_valid)\n",
        "y_pred_rf_hfus_valid = rf_regr_hfus.predict(X_hfus_valid)\n",
        "print('Coefficient of determination for validation case: {}'.format(r2_score(y_pka_valid, y_pred_rf_pka_valid)))\n",
        "print('Coefficient of determination for validation case: {}'.format(r2_score(y_hfus_valid, y_pred_rf_hfus_valid)))"
      ],
      "metadata": {
        "id": "BerxZbi4c6H_",
        "colab": {
          "base_uri": "https://localhost:8080/"
        },
        "outputId": "976ebf0c-f88c-4a99-ca4c-96b67a6db917"
      },
      "execution_count": null,
      "outputs": [
        {
          "output_type": "stream",
          "name": "stdout",
          "text": [
            "Coefficient of determination for validation case: 0.459848698644864\n",
            "Coefficient of determination for validation case: 0.5713299997725132\n"
          ]
        }
      ]
    },
    {
      "cell_type": "code",
      "source": [
        "y_pred_rf_pka_test = rf_regr_pka.predict(X_pka_test)\n",
        "y_pred_rf_hfus_test = rf_regr_hfus.predict(X_hfus_test)\n",
        "print('Coefficient of determination for test case: {}'.format(r2_score(y_pka_test, y_pred_rf_pka_test)))\n",
        "print('Coefficient of determination for test case: {}'.format(r2_score(y_hfus_test,y_pred_rf_hfus_test)))"
      ],
      "metadata": {
        "id": "bnW7ULhSc59t",
        "colab": {
          "base_uri": "https://localhost:8080/"
        },
        "outputId": "480bef72-4267-4a1f-d2d4-f17e71c9ab9b"
      },
      "execution_count": null,
      "outputs": [
        {
          "output_type": "stream",
          "name": "stdout",
          "text": [
            "Coefficient of determination for test case: 0.405974103142293\n",
            "Coefficient of determination for test case: 0.8885623755142239\n"
          ]
        }
      ]
    },
    {
      "cell_type": "markdown",
      "source": [
        "**kNN**"
      ],
      "metadata": {
        "id": "iWEWqNypdd5l"
      }
    },
    {
      "cell_type": "code",
      "source": [
        "knn_regr_pka = KNeighborsRegressor(n_neighbors=5,weights='uniform',p=2,metric='minkowski')\n",
        "knn_regr_hfus = KNeighborsRegressor(n_neighbors=7,weights='uniform',p=2,metric='minkowski')\n",
        "knn_regr_pka.fit(X_pka_train, y_pka_train)\n",
        "knn_regr_hfus.fit(X_hfus_train, y_hfus_train)"
      ],
      "metadata": {
        "id": "0eladdvpdhNF",
        "colab": {
          "base_uri": "https://localhost:8080/"
        },
        "outputId": "6d460707-fe67-4b7a-d3e3-12cc22815d73"
      },
      "execution_count": null,
      "outputs": [
        {
          "output_type": "execute_result",
          "data": {
            "text/plain": [
              "KNeighborsRegressor(n_neighbors=7)"
            ]
          },
          "metadata": {},
          "execution_count": 43
        }
      ]
    },
    {
      "cell_type": "code",
      "source": [
        "y_pred_knn_pka_valid = knn_regr_pka.predict(X_pka_valid)\n",
        "y_pred_knn_poly_hfus_valid = knn_regr_hfus.predict(X_hfus_valid)\n",
        "print('Coefficient of determination for validation case: {}'.format(r2_score(y_pka_valid, y_pred_knn_pka_valid)))\n",
        "print('Coefficient of determination for validation case: {}'.format(r2_score(y_hfus_valid, y_pred_knn_poly_hfus_valid)))"
      ],
      "metadata": {
        "id": "duJQWnQ8dhj1",
        "colab": {
          "base_uri": "https://localhost:8080/"
        },
        "outputId": "9d359d66-1d2c-486a-c252-d1537ed8a3ed"
      },
      "execution_count": null,
      "outputs": [
        {
          "output_type": "stream",
          "name": "stdout",
          "text": [
            "Coefficient of determination for validation case: 0.3757146573245508\n",
            "Coefficient of determination for validation case: 0.5086970741017249\n"
          ]
        }
      ]
    },
    {
      "cell_type": "code",
      "source": [
        "y_pred_knn_pka_test = knn_regr_pka.predict(X_pka_test)\n",
        "y_pred_knn_hfus_test = knn_regr_hfus.predict(X_hfus_test)\n",
        "print('Coefficient of determination for test case: {}'.format(r2_score(y_pka_test, y_pred_knn_pka_test)))\n",
        "print('Coefficient of determination for test case: {}'.format(r2_score(y_hfus_test,y_pred_knn_hfus_test)))"
      ],
      "metadata": {
        "id": "jhoUJh4ydha1",
        "colab": {
          "base_uri": "https://localhost:8080/"
        },
        "outputId": "591448ce-9e4c-4219-8625-2308f5995c98"
      },
      "execution_count": null,
      "outputs": [
        {
          "output_type": "stream",
          "name": "stdout",
          "text": [
            "Coefficient of determination for test case: 0.27212454805392483\n",
            "Coefficient of determination for test case: 0.8447012716468906\n"
          ]
        }
      ]
    },
    {
      "cell_type": "markdown",
      "source": [
        "**Gaussian Process Regression**"
      ],
      "metadata": {
        "id": "w8flPrcTg9Q1"
      }
    },
    {
      "cell_type": "code",
      "source": [
        "kernel = DotProduct() + WhiteKernel()\n",
        "gpr_regr_pka = GaussianProcessRegressor(kernel=kernel,random_state=200,n_restarts_optimizer=10,alpha=0.01)\n",
        "gpr_regr_hfus = GaussianProcessRegressor(kernel=kernel,random_state=200,n_restarts_optimizer=10,alpha=0.01)\n",
        "gpr_regr_pka.fit(X_pka_train, y_pka_train)\n",
        "gpr_regr_hfus.fit(X_hfus_train, y_hfus_train)"
      ],
      "metadata": {
        "colab": {
          "base_uri": "https://localhost:8080/"
        },
        "id": "_67qrtM-xgno",
        "outputId": "3715eeaf-35f5-4355-e202-40879e37fc78"
      },
      "execution_count": null,
      "outputs": [
        {
          "output_type": "execute_result",
          "data": {
            "text/plain": [
              "GaussianProcessRegressor(alpha=0.01,\n",
              "                         kernel=DotProduct(sigma_0=1) + WhiteKernel(noise_level=1),\n",
              "                         n_restarts_optimizer=10, random_state=200)"
            ]
          },
          "metadata": {},
          "execution_count": 46
        }
      ]
    },
    {
      "cell_type": "code",
      "source": [
        "y_pred_gpr_pka_valid = gpr_regr_pka.predict(X_pka_valid)\n",
        "y_pred_gpr_poly_hfus_valid = gpr_regr_hfus.predict(X_hfus_valid)\n",
        "print('Coefficient of determination for validation case: {}'.format(r2_score(y_pka_valid, y_pred_gpr_pka_valid)))\n",
        "print('Coefficient of determination for validation case: {}'.format(r2_score(y_hfus_valid, y_pred_gpr_poly_hfus_valid)))"
      ],
      "metadata": {
        "colab": {
          "base_uri": "https://localhost:8080/"
        },
        "id": "k3tTEv8Oxz9Z",
        "outputId": "2c0625b2-140b-4931-8f02-c8320e7fb702"
      },
      "execution_count": null,
      "outputs": [
        {
          "output_type": "stream",
          "name": "stdout",
          "text": [
            "Coefficient of determination for validation case: 0.1590844550682068\n",
            "Coefficient of determination for validation case: 0.5437788551708382\n"
          ]
        }
      ]
    },
    {
      "cell_type": "code",
      "source": [
        "y_pred_gpr_pka_test = gpr_regr_pka.predict(X_pka_test)\n",
        "y_pred_gpr_hfus_test = gpr_regr_hfus.predict(X_hfus_test)\n",
        "print('Coefficient of determination for test case: {}'.format(r2_score(y_pka_test, y_pred_gpr_pka_test)))\n",
        "print('Coefficient of determination for test case: {}'.format(r2_score(y_hfus_test,y_pred_gpr_hfus_test)))"
      ],
      "metadata": {
        "colab": {
          "base_uri": "https://localhost:8080/"
        },
        "id": "yEXDF2daxz1h",
        "outputId": "10ce8067-1d87-4a50-f07b-022f60ead088"
      },
      "execution_count": null,
      "outputs": [
        {
          "output_type": "stream",
          "name": "stdout",
          "text": [
            "Coefficient of determination for test case: 0.25210758433288805\n",
            "Coefficient of determination for test case: 0.868679367884972\n"
          ]
        }
      ]
    },
    {
      "cell_type": "markdown",
      "source": [
        "**Neural Network**"
      ],
      "metadata": {
        "id": "XRdKH82BDyRm"
      }
    },
    {
      "cell_type": "code",
      "source": [
        "pka_model = Sequential()\n",
        "pka_model.add(Dense(200, input_dim=424, activation='relu'))\n",
        "pka_model.add(Dense(200, input_dim=200, activation='relu'))\n",
        "pka_model.add(Dense(200, input_dim=200, activation='relu'))\n",
        "pka_model.add(Dense(1, activation='linear'))\n",
        "\n",
        "hfus_model = Sequential()\n",
        "hfus_model.add(Dense(200, input_dim=424, activation='relu'))\n",
        "hfus_model.add(Dense(200, input_dim=200, activation='relu'))\n",
        "hfus_model.add(Dense(200, input_dim=200, activation='relu'))\n",
        "hfus_model.add(Dense(1, activation='linear'))"
      ],
      "metadata": {
        "id": "zToJh4CGD1U3"
      },
      "execution_count": null,
      "outputs": []
    },
    {
      "cell_type": "code",
      "source": [
        "tf.keras.optimizers.Adam(learning_rate=0.0001, beta_1=0.9, beta_2=0.999, amsgrad=False)\n",
        "pka_model.compile(loss='mean_squared_error', optimizer='RMSprop', metrics=['mean_absolute_percentage_error'])\n",
        "\n",
        "tf.keras.optimizers.Adam(learning_rate=0.01, beta_1=0.9, beta_2=0.999, amsgrad=False)\n",
        "hfus_model.compile(loss='mean_squared_error', optimizer='RMSprop', metrics=['mean_absolute_percentage_error'])\n",
        "pka_model.fit(X_pka_train, y_pka_train, epochs=50, batch_size=32,validation_split=0.15,validation_data=None,verbose=1)\n",
        "hfus_model.fit(X_hfus_train, y_hfus_train, epochs=50, batch_size=32,validation_split=0.15,validation_data=None,verbose=1)\n",
        " "
      ],
      "metadata": {
        "id": "t9ht5siWD2PY",
        "colab": {
          "base_uri": "https://localhost:8080/"
        },
        "outputId": "35541651-cb5c-486e-83fd-7adc27bd2fb8"
      },
      "execution_count": null,
      "outputs": [
        {
          "output_type": "stream",
          "name": "stdout",
          "text": [
            "Epoch 1/50\n",
            "35/35 [==============================] - 1s 13ms/step - loss: 16.2217 - mean_absolute_percentage_error: 5380283.5000 - val_loss: 9.8651 - val_mean_absolute_percentage_error: 91.8006\n",
            "Epoch 2/50\n",
            "35/35 [==============================] - 0s 6ms/step - loss: 9.3292 - mean_absolute_percentage_error: 4758737.5000 - val_loss: 7.6278 - val_mean_absolute_percentage_error: 105.0832\n",
            "Epoch 3/50\n",
            "35/35 [==============================] - 0s 6ms/step - loss: 7.6408 - mean_absolute_percentage_error: 3919028.0000 - val_loss: 7.3746 - val_mean_absolute_percentage_error: 115.7636\n",
            "Epoch 4/50\n",
            "35/35 [==============================] - 0s 6ms/step - loss: 6.5142 - mean_absolute_percentage_error: 3512550.5000 - val_loss: 6.3085 - val_mean_absolute_percentage_error: 102.6511\n",
            "Epoch 5/50\n",
            "35/35 [==============================] - 0s 6ms/step - loss: 5.5041 - mean_absolute_percentage_error: 1548833.3750 - val_loss: 7.6241 - val_mean_absolute_percentage_error: 95.2434\n",
            "Epoch 6/50\n",
            "35/35 [==============================] - 0s 6ms/step - loss: 5.0866 - mean_absolute_percentage_error: 1710897.6250 - val_loss: 6.4879 - val_mean_absolute_percentage_error: 90.1351\n",
            "Epoch 7/50\n",
            "35/35 [==============================] - 0s 5ms/step - loss: 4.3900 - mean_absolute_percentage_error: 1040955.5000 - val_loss: 6.2219 - val_mean_absolute_percentage_error: 99.1435\n",
            "Epoch 8/50\n",
            "35/35 [==============================] - 0s 6ms/step - loss: 4.2149 - mean_absolute_percentage_error: 759041.9375 - val_loss: 5.8484 - val_mean_absolute_percentage_error: 88.8677\n",
            "Epoch 9/50\n",
            "35/35 [==============================] - 0s 6ms/step - loss: 3.6211 - mean_absolute_percentage_error: 34204.1875 - val_loss: 6.0585 - val_mean_absolute_percentage_error: 77.9007\n",
            "Epoch 10/50\n",
            "35/35 [==============================] - 0s 5ms/step - loss: 3.5965 - mean_absolute_percentage_error: 80035.5312 - val_loss: 6.0356 - val_mean_absolute_percentage_error: 85.4902\n",
            "Epoch 11/50\n",
            "35/35 [==============================] - 0s 6ms/step - loss: 3.2978 - mean_absolute_percentage_error: 10773.5186 - val_loss: 5.5930 - val_mean_absolute_percentage_error: 71.1738\n",
            "Epoch 12/50\n",
            "35/35 [==============================] - 0s 6ms/step - loss: 2.8423 - mean_absolute_percentage_error: 93444.7344 - val_loss: 5.9918 - val_mean_absolute_percentage_error: 60.1013\n",
            "Epoch 13/50\n",
            "35/35 [==============================] - 0s 6ms/step - loss: 2.7101 - mean_absolute_percentage_error: 343144.0625 - val_loss: 6.6809 - val_mean_absolute_percentage_error: 50.6932\n",
            "Epoch 14/50\n",
            "35/35 [==============================] - 0s 6ms/step - loss: 2.7781 - mean_absolute_percentage_error: 74907.2734 - val_loss: 5.6039 - val_mean_absolute_percentage_error: 54.2237\n",
            "Epoch 15/50\n",
            "35/35 [==============================] - 0s 5ms/step - loss: 2.2517 - mean_absolute_percentage_error: 498107.3750 - val_loss: 5.6680 - val_mean_absolute_percentage_error: 56.8626\n",
            "Epoch 16/50\n",
            "35/35 [==============================] - 0s 6ms/step - loss: 2.3002 - mean_absolute_percentage_error: 334962.4688 - val_loss: 5.2913 - val_mean_absolute_percentage_error: 40.3105\n",
            "Epoch 17/50\n",
            "35/35 [==============================] - 0s 6ms/step - loss: 1.9649 - mean_absolute_percentage_error: 368283.7188 - val_loss: 5.5814 - val_mean_absolute_percentage_error: 45.6891\n",
            "Epoch 18/50\n",
            "35/35 [==============================] - 0s 6ms/step - loss: 1.8797 - mean_absolute_percentage_error: 845541.9375 - val_loss: 5.3413 - val_mean_absolute_percentage_error: 38.0267\n",
            "Epoch 19/50\n",
            "35/35 [==============================] - 0s 6ms/step - loss: 1.8797 - mean_absolute_percentage_error: 192573.7031 - val_loss: 5.3783 - val_mean_absolute_percentage_error: 36.8175\n",
            "Epoch 20/50\n",
            "35/35 [==============================] - 0s 5ms/step - loss: 1.6782 - mean_absolute_percentage_error: 41715.4453 - val_loss: 5.2384 - val_mean_absolute_percentage_error: 40.2750\n",
            "Epoch 21/50\n",
            "35/35 [==============================] - 0s 6ms/step - loss: 1.5879 - mean_absolute_percentage_error: 56428.4531 - val_loss: 5.5887 - val_mean_absolute_percentage_error: 36.8061\n",
            "Epoch 22/50\n",
            "35/35 [==============================] - 0s 5ms/step - loss: 1.5402 - mean_absolute_percentage_error: 965316.3125 - val_loss: 5.0758 - val_mean_absolute_percentage_error: 46.7477\n",
            "Epoch 23/50\n",
            "35/35 [==============================] - 0s 6ms/step - loss: 1.3735 - mean_absolute_percentage_error: 401543.8750 - val_loss: 5.9620 - val_mean_absolute_percentage_error: 46.1705\n",
            "Epoch 24/50\n",
            "35/35 [==============================] - 0s 6ms/step - loss: 1.3392 - mean_absolute_percentage_error: 926509.4375 - val_loss: 5.5890 - val_mean_absolute_percentage_error: 43.1029\n",
            "Epoch 25/50\n",
            "35/35 [==============================] - 0s 6ms/step - loss: 1.3507 - mean_absolute_percentage_error: 200834.7656 - val_loss: 5.3390 - val_mean_absolute_percentage_error: 35.9748\n",
            "Epoch 26/50\n",
            "35/35 [==============================] - 0s 5ms/step - loss: 1.1431 - mean_absolute_percentage_error: 1307914.6250 - val_loss: 5.2259 - val_mean_absolute_percentage_error: 43.5971\n",
            "Epoch 27/50\n",
            "35/35 [==============================] - 0s 6ms/step - loss: 1.2753 - mean_absolute_percentage_error: 360121.7188 - val_loss: 5.2183 - val_mean_absolute_percentage_error: 42.7918\n",
            "Epoch 28/50\n",
            "35/35 [==============================] - 0s 6ms/step - loss: 1.0819 - mean_absolute_percentage_error: 515068.1250 - val_loss: 5.2676 - val_mean_absolute_percentage_error: 41.1927\n",
            "Epoch 29/50\n",
            "35/35 [==============================] - 0s 6ms/step - loss: 1.1709 - mean_absolute_percentage_error: 542032.6250 - val_loss: 4.9519 - val_mean_absolute_percentage_error: 42.6138\n",
            "Epoch 30/50\n",
            "35/35 [==============================] - 0s 6ms/step - loss: 1.0014 - mean_absolute_percentage_error: 799065.4375 - val_loss: 5.0113 - val_mean_absolute_percentage_error: 36.1157\n",
            "Epoch 31/50\n",
            "35/35 [==============================] - 0s 6ms/step - loss: 0.9844 - mean_absolute_percentage_error: 88404.1406 - val_loss: 5.3642 - val_mean_absolute_percentage_error: 40.2059\n",
            "Epoch 32/50\n",
            "35/35 [==============================] - 0s 5ms/step - loss: 0.9960 - mean_absolute_percentage_error: 626942.0625 - val_loss: 5.2178 - val_mean_absolute_percentage_error: 45.7529\n",
            "Epoch 33/50\n",
            "35/35 [==============================] - 0s 5ms/step - loss: 1.0003 - mean_absolute_percentage_error: 732033.5000 - val_loss: 4.9144 - val_mean_absolute_percentage_error: 35.6949\n",
            "Epoch 34/50\n",
            "35/35 [==============================] - 0s 6ms/step - loss: 0.8517 - mean_absolute_percentage_error: 441338.0000 - val_loss: 5.0878 - val_mean_absolute_percentage_error: 44.4631\n",
            "Epoch 35/50\n",
            "35/35 [==============================] - 0s 6ms/step - loss: 0.9756 - mean_absolute_percentage_error: 525513.6875 - val_loss: 4.8573 - val_mean_absolute_percentage_error: 35.6932\n",
            "Epoch 36/50\n",
            "35/35 [==============================] - 0s 5ms/step - loss: 0.8320 - mean_absolute_percentage_error: 277515.1562 - val_loss: 4.8176 - val_mean_absolute_percentage_error: 36.2708\n",
            "Epoch 37/50\n",
            "35/35 [==============================] - 0s 6ms/step - loss: 0.8460 - mean_absolute_percentage_error: 293092.8750 - val_loss: 4.8310 - val_mean_absolute_percentage_error: 34.2922\n",
            "Epoch 38/50\n",
            "35/35 [==============================] - 0s 6ms/step - loss: 0.8315 - mean_absolute_percentage_error: 649065.8125 - val_loss: 5.2393 - val_mean_absolute_percentage_error: 50.2585\n",
            "Epoch 39/50\n",
            "35/35 [==============================] - 0s 6ms/step - loss: 0.8071 - mean_absolute_percentage_error: 469423.0000 - val_loss: 4.7681 - val_mean_absolute_percentage_error: 37.2754\n",
            "Epoch 40/50\n",
            "35/35 [==============================] - 0s 6ms/step - loss: 0.7681 - mean_absolute_percentage_error: 43584.5586 - val_loss: 5.0330 - val_mean_absolute_percentage_error: 34.0166\n",
            "Epoch 41/50\n",
            "35/35 [==============================] - 0s 5ms/step - loss: 0.7270 - mean_absolute_percentage_error: 913647.9375 - val_loss: 4.8876 - val_mean_absolute_percentage_error: 37.4331\n",
            "Epoch 42/50\n",
            "35/35 [==============================] - 0s 6ms/step - loss: 0.7321 - mean_absolute_percentage_error: 871114.0000 - val_loss: 4.9019 - val_mean_absolute_percentage_error: 38.4983\n",
            "Epoch 43/50\n",
            "35/35 [==============================] - 0s 6ms/step - loss: 0.7293 - mean_absolute_percentage_error: 794478.0000 - val_loss: 5.0818 - val_mean_absolute_percentage_error: 40.4365\n",
            "Epoch 44/50\n",
            "35/35 [==============================] - 0s 6ms/step - loss: 0.6377 - mean_absolute_percentage_error: 797817.5000 - val_loss: 4.9637 - val_mean_absolute_percentage_error: 35.3739\n",
            "Epoch 45/50\n",
            "35/35 [==============================] - 0s 6ms/step - loss: 0.7171 - mean_absolute_percentage_error: 236985.1719 - val_loss: 5.0125 - val_mean_absolute_percentage_error: 37.5645\n",
            "Epoch 46/50\n",
            "35/35 [==============================] - 0s 6ms/step - loss: 0.6434 - mean_absolute_percentage_error: 790346.0625 - val_loss: 5.1729 - val_mean_absolute_percentage_error: 42.7490\n",
            "Epoch 47/50\n",
            "35/35 [==============================] - 0s 6ms/step - loss: 0.6669 - mean_absolute_percentage_error: 612193.3125 - val_loss: 5.2360 - val_mean_absolute_percentage_error: 52.4767\n",
            "Epoch 48/50\n",
            "35/35 [==============================] - 0s 6ms/step - loss: 0.6643 - mean_absolute_percentage_error: 1068306.2500 - val_loss: 5.6956 - val_mean_absolute_percentage_error: 57.3757\n",
            "Epoch 49/50\n",
            "35/35 [==============================] - 0s 6ms/step - loss: 0.6294 - mean_absolute_percentage_error: 342166.6250 - val_loss: 5.6319 - val_mean_absolute_percentage_error: 36.4213\n",
            "Epoch 50/50\n",
            "35/35 [==============================] - 0s 6ms/step - loss: 0.6279 - mean_absolute_percentage_error: 1204912.0000 - val_loss: 5.2235 - val_mean_absolute_percentage_error: 38.2935\n",
            "Epoch 1/50\n",
            "16/16 [==============================] - 1s 22ms/step - loss: 174.9480 - mean_absolute_percentage_error: 75.3067 - val_loss: 38.5191 - val_mean_absolute_percentage_error: 60.6814\n",
            "Epoch 2/50\n",
            "16/16 [==============================] - 0s 7ms/step - loss: 76.3952 - mean_absolute_percentage_error: 70.8447 - val_loss: 29.4484 - val_mean_absolute_percentage_error: 43.9481\n",
            "Epoch 3/50\n",
            "16/16 [==============================] - 0s 7ms/step - loss: 69.6041 - mean_absolute_percentage_error: 64.6294 - val_loss: 22.5904 - val_mean_absolute_percentage_error: 39.5105\n",
            "Epoch 4/50\n",
            "16/16 [==============================] - 0s 7ms/step - loss: 65.4406 - mean_absolute_percentage_error: 61.4309 - val_loss: 19.0956 - val_mean_absolute_percentage_error: 35.9854\n",
            "Epoch 5/50\n",
            "16/16 [==============================] - 0s 8ms/step - loss: 58.2344 - mean_absolute_percentage_error: 57.2687 - val_loss: 21.5010 - val_mean_absolute_percentage_error: 36.7631\n",
            "Epoch 6/50\n",
            "16/16 [==============================] - 0s 8ms/step - loss: 53.0547 - mean_absolute_percentage_error: 53.4200 - val_loss: 21.2780 - val_mean_absolute_percentage_error: 33.7167\n",
            "Epoch 7/50\n",
            "16/16 [==============================] - 0s 7ms/step - loss: 51.5969 - mean_absolute_percentage_error: 49.2924 - val_loss: 21.2195 - val_mean_absolute_percentage_error: 35.8050\n",
            "Epoch 8/50\n",
            "16/16 [==============================] - 0s 6ms/step - loss: 51.6519 - mean_absolute_percentage_error: 47.2822 - val_loss: 16.2368 - val_mean_absolute_percentage_error: 34.8071\n",
            "Epoch 9/50\n",
            "16/16 [==============================] - 0s 8ms/step - loss: 47.1401 - mean_absolute_percentage_error: 46.2028 - val_loss: 16.9152 - val_mean_absolute_percentage_error: 32.6797\n",
            "Epoch 10/50\n",
            "16/16 [==============================] - 0s 7ms/step - loss: 46.0040 - mean_absolute_percentage_error: 41.3778 - val_loss: 23.5596 - val_mean_absolute_percentage_error: 35.1468\n",
            "Epoch 11/50\n",
            "16/16 [==============================] - 0s 8ms/step - loss: 44.9098 - mean_absolute_percentage_error: 40.7672 - val_loss: 39.2486 - val_mean_absolute_percentage_error: 36.1287\n",
            "Epoch 12/50\n",
            "16/16 [==============================] - 0s 8ms/step - loss: 44.1630 - mean_absolute_percentage_error: 39.7998 - val_loss: 16.5576 - val_mean_absolute_percentage_error: 35.4286\n",
            "Epoch 13/50\n",
            "16/16 [==============================] - 0s 7ms/step - loss: 42.3128 - mean_absolute_percentage_error: 40.0628 - val_loss: 17.8035 - val_mean_absolute_percentage_error: 34.8569\n",
            "Epoch 14/50\n",
            "16/16 [==============================] - 0s 6ms/step - loss: 41.4179 - mean_absolute_percentage_error: 36.5728 - val_loss: 15.6480 - val_mean_absolute_percentage_error: 34.6618\n",
            "Epoch 15/50\n",
            "16/16 [==============================] - 0s 7ms/step - loss: 39.9920 - mean_absolute_percentage_error: 36.5152 - val_loss: 14.6649 - val_mean_absolute_percentage_error: 34.0133\n",
            "Epoch 16/50\n",
            "16/16 [==============================] - 0s 8ms/step - loss: 41.9022 - mean_absolute_percentage_error: 34.1042 - val_loss: 15.3286 - val_mean_absolute_percentage_error: 35.2225\n",
            "Epoch 17/50\n",
            "16/16 [==============================] - 0s 7ms/step - loss: 38.8593 - mean_absolute_percentage_error: 33.8530 - val_loss: 36.8193 - val_mean_absolute_percentage_error: 47.3154\n",
            "Epoch 18/50\n",
            "16/16 [==============================] - 0s 7ms/step - loss: 37.4425 - mean_absolute_percentage_error: 35.0363 - val_loss: 15.2560 - val_mean_absolute_percentage_error: 36.2972\n",
            "Epoch 19/50\n",
            "16/16 [==============================] - 0s 9ms/step - loss: 34.5835 - mean_absolute_percentage_error: 33.4960 - val_loss: 15.7770 - val_mean_absolute_percentage_error: 34.8579\n",
            "Epoch 20/50\n",
            "16/16 [==============================] - 0s 6ms/step - loss: 32.8111 - mean_absolute_percentage_error: 33.1298 - val_loss: 64.9841 - val_mean_absolute_percentage_error: 45.3463\n",
            "Epoch 21/50\n",
            "16/16 [==============================] - 0s 7ms/step - loss: 36.0469 - mean_absolute_percentage_error: 32.2067 - val_loss: 18.2845 - val_mean_absolute_percentage_error: 36.1483\n",
            "Epoch 22/50\n",
            "16/16 [==============================] - 0s 6ms/step - loss: 32.6312 - mean_absolute_percentage_error: 30.7994 - val_loss: 20.5144 - val_mean_absolute_percentage_error: 37.8775\n",
            "Epoch 23/50\n",
            "16/16 [==============================] - 0s 7ms/step - loss: 32.7552 - mean_absolute_percentage_error: 30.8988 - val_loss: 17.6384 - val_mean_absolute_percentage_error: 36.9105\n",
            "Epoch 24/50\n",
            "16/16 [==============================] - 0s 7ms/step - loss: 31.6397 - mean_absolute_percentage_error: 28.6956 - val_loss: 16.9093 - val_mean_absolute_percentage_error: 36.9800\n",
            "Epoch 25/50\n",
            "16/16 [==============================] - 0s 7ms/step - loss: 32.3727 - mean_absolute_percentage_error: 29.0322 - val_loss: 17.1014 - val_mean_absolute_percentage_error: 37.6751\n",
            "Epoch 26/50\n",
            "16/16 [==============================] - 0s 8ms/step - loss: 30.3792 - mean_absolute_percentage_error: 29.3468 - val_loss: 21.1894 - val_mean_absolute_percentage_error: 33.7309\n",
            "Epoch 27/50\n",
            "16/16 [==============================] - 0s 6ms/step - loss: 32.0577 - mean_absolute_percentage_error: 29.0062 - val_loss: 20.9991 - val_mean_absolute_percentage_error: 39.1814\n",
            "Epoch 28/50\n",
            "16/16 [==============================] - 0s 6ms/step - loss: 27.6548 - mean_absolute_percentage_error: 27.5842 - val_loss: 21.8863 - val_mean_absolute_percentage_error: 35.4498\n",
            "Epoch 29/50\n",
            "16/16 [==============================] - 0s 7ms/step - loss: 26.8927 - mean_absolute_percentage_error: 28.4257 - val_loss: 20.6452 - val_mean_absolute_percentage_error: 37.5569\n",
            "Epoch 30/50\n",
            "16/16 [==============================] - 0s 7ms/step - loss: 31.3726 - mean_absolute_percentage_error: 28.8076 - val_loss: 19.7402 - val_mean_absolute_percentage_error: 38.1550\n",
            "Epoch 31/50\n",
            "16/16 [==============================] - 0s 7ms/step - loss: 26.0529 - mean_absolute_percentage_error: 27.3786 - val_loss: 36.7804 - val_mean_absolute_percentage_error: 41.7735\n",
            "Epoch 32/50\n",
            "16/16 [==============================] - 0s 7ms/step - loss: 29.8971 - mean_absolute_percentage_error: 28.1934 - val_loss: 17.9370 - val_mean_absolute_percentage_error: 37.1307\n",
            "Epoch 33/50\n",
            "16/16 [==============================] - 0s 6ms/step - loss: 26.9864 - mean_absolute_percentage_error: 26.7764 - val_loss: 19.3492 - val_mean_absolute_percentage_error: 36.6481\n",
            "Epoch 34/50\n",
            "16/16 [==============================] - 0s 7ms/step - loss: 25.8639 - mean_absolute_percentage_error: 25.3368 - val_loss: 18.3213 - val_mean_absolute_percentage_error: 38.5550\n",
            "Epoch 35/50\n",
            "16/16 [==============================] - 0s 8ms/step - loss: 25.0017 - mean_absolute_percentage_error: 25.8241 - val_loss: 18.4221 - val_mean_absolute_percentage_error: 41.1521\n",
            "Epoch 36/50\n",
            "16/16 [==============================] - 0s 8ms/step - loss: 23.5250 - mean_absolute_percentage_error: 25.9171 - val_loss: 23.3954 - val_mean_absolute_percentage_error: 39.3001\n",
            "Epoch 37/50\n",
            "16/16 [==============================] - 0s 7ms/step - loss: 23.5537 - mean_absolute_percentage_error: 26.6225 - val_loss: 22.2679 - val_mean_absolute_percentage_error: 43.1496\n",
            "Epoch 38/50\n",
            "16/16 [==============================] - 0s 6ms/step - loss: 22.7079 - mean_absolute_percentage_error: 26.5369 - val_loss: 20.5305 - val_mean_absolute_percentage_error: 39.9492\n",
            "Epoch 39/50\n",
            "16/16 [==============================] - 0s 7ms/step - loss: 25.1474 - mean_absolute_percentage_error: 26.2645 - val_loss: 26.2542 - val_mean_absolute_percentage_error: 41.4229\n",
            "Epoch 40/50\n",
            "16/16 [==============================] - 0s 8ms/step - loss: 20.5520 - mean_absolute_percentage_error: 23.4374 - val_loss: 23.9321 - val_mean_absolute_percentage_error: 38.1433\n",
            "Epoch 41/50\n",
            "16/16 [==============================] - 0s 8ms/step - loss: 22.7503 - mean_absolute_percentage_error: 25.5745 - val_loss: 21.1857 - val_mean_absolute_percentage_error: 38.0861\n",
            "Epoch 42/50\n",
            "16/16 [==============================] - 0s 7ms/step - loss: 20.3728 - mean_absolute_percentage_error: 27.1005 - val_loss: 29.9414 - val_mean_absolute_percentage_error: 41.6701\n",
            "Epoch 43/50\n",
            "16/16 [==============================] - 0s 8ms/step - loss: 20.2054 - mean_absolute_percentage_error: 25.6460 - val_loss: 22.7263 - val_mean_absolute_percentage_error: 36.6816\n",
            "Epoch 44/50\n",
            "16/16 [==============================] - 0s 7ms/step - loss: 25.4224 - mean_absolute_percentage_error: 24.6524 - val_loss: 19.4220 - val_mean_absolute_percentage_error: 42.8359\n",
            "Epoch 45/50\n",
            "16/16 [==============================] - 0s 7ms/step - loss: 19.7580 - mean_absolute_percentage_error: 22.4785 - val_loss: 21.5144 - val_mean_absolute_percentage_error: 40.9357\n",
            "Epoch 46/50\n",
            "16/16 [==============================] - 0s 7ms/step - loss: 19.5414 - mean_absolute_percentage_error: 24.0261 - val_loss: 19.4494 - val_mean_absolute_percentage_error: 40.3682\n",
            "Epoch 47/50\n",
            "16/16 [==============================] - 0s 8ms/step - loss: 18.8073 - mean_absolute_percentage_error: 24.2836 - val_loss: 19.6510 - val_mean_absolute_percentage_error: 41.3614\n",
            "Epoch 48/50\n",
            "16/16 [==============================] - 0s 7ms/step - loss: 18.8285 - mean_absolute_percentage_error: 23.6978 - val_loss: 23.1063 - val_mean_absolute_percentage_error: 41.5794\n",
            "Epoch 49/50\n",
            "16/16 [==============================] - 0s 7ms/step - loss: 18.1420 - mean_absolute_percentage_error: 24.6989 - val_loss: 20.9284 - val_mean_absolute_percentage_error: 42.0213\n",
            "Epoch 50/50\n",
            "16/16 [==============================] - 0s 6ms/step - loss: 17.2895 - mean_absolute_percentage_error: 24.3368 - val_loss: 28.9768 - val_mean_absolute_percentage_error: 44.6213\n"
          ]
        },
        {
          "output_type": "execute_result",
          "data": {
            "text/plain": [
              "<keras.callbacks.History at 0x7f8b7415a790>"
            ]
          },
          "metadata": {},
          "execution_count": 50
        }
      ]
    },
    {
      "cell_type": "code",
      "source": [
        "pka_model.fit(X_pka_train, y_pka_train, epochs=50, batch_size=32,validation_split=0.15,validation_data=None,verbose=1)\n",
        "hfus_model.fit(X_hfus_train, y_hfus_train, epochs=50, batch_size=32,validation_split=0.15,validation_data=None,verbose=1)"
      ],
      "metadata": {
        "id": "2XqFx6QMD1__",
        "colab": {
          "base_uri": "https://localhost:8080/"
        },
        "outputId": "1ddc0406-b324-400d-843a-17c372a8002c"
      },
      "execution_count": null,
      "outputs": [
        {
          "output_type": "stream",
          "name": "stdout",
          "text": [
            "Epoch 1/50\n",
            "35/35 [==============================] - 0s 9ms/step - loss: 0.5960 - mean_absolute_percentage_error: 844959.5000 - val_loss: 4.6252 - val_mean_absolute_percentage_error: 42.0424\n",
            "Epoch 2/50\n",
            "35/35 [==============================] - 0s 6ms/step - loss: 0.6583 - mean_absolute_percentage_error: 330295.8438 - val_loss: 5.0946 - val_mean_absolute_percentage_error: 37.3941\n",
            "Epoch 3/50\n",
            "35/35 [==============================] - 0s 6ms/step - loss: 0.6018 - mean_absolute_percentage_error: 1099345.6250 - val_loss: 4.8376 - val_mean_absolute_percentage_error: 42.9841\n",
            "Epoch 4/50\n",
            "35/35 [==============================] - 0s 5ms/step - loss: 0.5759 - mean_absolute_percentage_error: 551417.0000 - val_loss: 6.1804 - val_mean_absolute_percentage_error: 40.4394\n",
            "Epoch 5/50\n",
            "35/35 [==============================] - 0s 6ms/step - loss: 0.5711 - mean_absolute_percentage_error: 104737.9531 - val_loss: 4.8627 - val_mean_absolute_percentage_error: 37.0162\n",
            "Epoch 6/50\n",
            "35/35 [==============================] - 0s 6ms/step - loss: 0.5921 - mean_absolute_percentage_error: 80726.2031 - val_loss: 5.4911 - val_mean_absolute_percentage_error: 37.2602\n",
            "Epoch 7/50\n",
            "35/35 [==============================] - 0s 6ms/step - loss: 0.5228 - mean_absolute_percentage_error: 10237.4805 - val_loss: 4.9941 - val_mean_absolute_percentage_error: 47.7190\n",
            "Epoch 8/50\n",
            "35/35 [==============================] - 0s 6ms/step - loss: 0.5431 - mean_absolute_percentage_error: 173143.4219 - val_loss: 4.9707 - val_mean_absolute_percentage_error: 33.8481\n",
            "Epoch 9/50\n",
            "35/35 [==============================] - 0s 5ms/step - loss: 0.5299 - mean_absolute_percentage_error: 633686.0625 - val_loss: 5.6091 - val_mean_absolute_percentage_error: 38.9245\n",
            "Epoch 10/50\n",
            "35/35 [==============================] - 0s 5ms/step - loss: 0.5111 - mean_absolute_percentage_error: 615603.1875 - val_loss: 4.9275 - val_mean_absolute_percentage_error: 41.1766\n",
            "Epoch 11/50\n",
            "35/35 [==============================] - 0s 6ms/step - loss: 0.5366 - mean_absolute_percentage_error: 342249.3438 - val_loss: 5.2044 - val_mean_absolute_percentage_error: 38.8303\n",
            "Epoch 12/50\n",
            "35/35 [==============================] - 0s 5ms/step - loss: 0.5386 - mean_absolute_percentage_error: 552298.4375 - val_loss: 5.6223 - val_mean_absolute_percentage_error: 39.9364\n",
            "Epoch 13/50\n",
            "35/35 [==============================] - 0s 5ms/step - loss: 0.5326 - mean_absolute_percentage_error: 804084.1875 - val_loss: 4.7965 - val_mean_absolute_percentage_error: 36.4400\n",
            "Epoch 14/50\n",
            "35/35 [==============================] - 0s 6ms/step - loss: 0.5448 - mean_absolute_percentage_error: 510665.7500 - val_loss: 4.8226 - val_mean_absolute_percentage_error: 37.3740\n",
            "Epoch 15/50\n",
            "35/35 [==============================] - 0s 5ms/step - loss: 0.5181 - mean_absolute_percentage_error: 78974.0234 - val_loss: 5.1697 - val_mean_absolute_percentage_error: 35.4164\n",
            "Epoch 16/50\n",
            "35/35 [==============================] - 0s 5ms/step - loss: 0.4503 - mean_absolute_percentage_error: 444888.7500 - val_loss: 5.0816 - val_mean_absolute_percentage_error: 35.0492\n",
            "Epoch 17/50\n",
            "35/35 [==============================] - 0s 5ms/step - loss: 0.5359 - mean_absolute_percentage_error: 729345.3125 - val_loss: 4.8185 - val_mean_absolute_percentage_error: 36.9408\n",
            "Epoch 18/50\n",
            "35/35 [==============================] - 0s 6ms/step - loss: 0.4921 - mean_absolute_percentage_error: 425483.5625 - val_loss: 4.9611 - val_mean_absolute_percentage_error: 36.6776\n",
            "Epoch 19/50\n",
            "35/35 [==============================] - 0s 5ms/step - loss: 0.4647 - mean_absolute_percentage_error: 231033.6875 - val_loss: 4.7738 - val_mean_absolute_percentage_error: 36.8629\n",
            "Epoch 20/50\n",
            "35/35 [==============================] - 0s 5ms/step - loss: 0.4483 - mean_absolute_percentage_error: 254233.5469 - val_loss: 4.9190 - val_mean_absolute_percentage_error: 42.8309\n",
            "Epoch 21/50\n",
            "35/35 [==============================] - 0s 6ms/step - loss: 0.4916 - mean_absolute_percentage_error: 164992.0312 - val_loss: 5.4902 - val_mean_absolute_percentage_error: 39.2666\n",
            "Epoch 22/50\n",
            "35/35 [==============================] - 0s 6ms/step - loss: 0.4896 - mean_absolute_percentage_error: 646456.5625 - val_loss: 5.2119 - val_mean_absolute_percentage_error: 34.9848\n",
            "Epoch 23/50\n",
            "35/35 [==============================] - 0s 6ms/step - loss: 0.4845 - mean_absolute_percentage_error: 298605.1562 - val_loss: 4.6433 - val_mean_absolute_percentage_error: 37.9114\n",
            "Epoch 24/50\n",
            "35/35 [==============================] - 0s 6ms/step - loss: 0.4088 - mean_absolute_percentage_error: 668898.4375 - val_loss: 5.0582 - val_mean_absolute_percentage_error: 40.2189\n",
            "Epoch 25/50\n",
            "35/35 [==============================] - 0s 5ms/step - loss: 0.4500 - mean_absolute_percentage_error: 14586.0596 - val_loss: 4.8102 - val_mean_absolute_percentage_error: 39.5136\n",
            "Epoch 26/50\n",
            "35/35 [==============================] - 0s 5ms/step - loss: 0.4363 - mean_absolute_percentage_error: 464946.2500 - val_loss: 5.4872 - val_mean_absolute_percentage_error: 44.2116\n",
            "Epoch 27/50\n",
            "35/35 [==============================] - 0s 6ms/step - loss: 0.4766 - mean_absolute_percentage_error: 534844.9375 - val_loss: 4.7132 - val_mean_absolute_percentage_error: 39.5664\n",
            "Epoch 28/50\n",
            "35/35 [==============================] - 0s 6ms/step - loss: 0.4169 - mean_absolute_percentage_error: 92785.3516 - val_loss: 5.0301 - val_mean_absolute_percentage_error: 34.4562\n",
            "Epoch 29/50\n",
            "35/35 [==============================] - 0s 6ms/step - loss: 0.3995 - mean_absolute_percentage_error: 85196.8906 - val_loss: 5.0973 - val_mean_absolute_percentage_error: 37.8831\n",
            "Epoch 30/50\n",
            "35/35 [==============================] - 0s 6ms/step - loss: 0.4371 - mean_absolute_percentage_error: 365853.9688 - val_loss: 4.8518 - val_mean_absolute_percentage_error: 36.3051\n",
            "Epoch 31/50\n",
            "35/35 [==============================] - 0s 5ms/step - loss: 0.4393 - mean_absolute_percentage_error: 32611.0352 - val_loss: 4.9033 - val_mean_absolute_percentage_error: 39.2267\n",
            "Epoch 32/50\n",
            "35/35 [==============================] - 0s 6ms/step - loss: 0.4228 - mean_absolute_percentage_error: 102777.5078 - val_loss: 4.7816 - val_mean_absolute_percentage_error: 39.0089\n",
            "Epoch 33/50\n",
            "35/35 [==============================] - 0s 6ms/step - loss: 0.4270 - mean_absolute_percentage_error: 280469.2500 - val_loss: 4.9382 - val_mean_absolute_percentage_error: 38.4644\n",
            "Epoch 34/50\n",
            "35/35 [==============================] - 0s 6ms/step - loss: 0.4289 - mean_absolute_percentage_error: 575072.8125 - val_loss: 5.1492 - val_mean_absolute_percentage_error: 41.1071\n",
            "Epoch 35/50\n",
            "35/35 [==============================] - 0s 6ms/step - loss: 0.4012 - mean_absolute_percentage_error: 31142.5840 - val_loss: 4.9062 - val_mean_absolute_percentage_error: 37.5526\n",
            "Epoch 36/50\n",
            "35/35 [==============================] - 0s 6ms/step - loss: 0.4367 - mean_absolute_percentage_error: 177710.9844 - val_loss: 4.8827 - val_mean_absolute_percentage_error: 44.8752\n",
            "Epoch 37/50\n",
            "35/35 [==============================] - 0s 6ms/step - loss: 0.3948 - mean_absolute_percentage_error: 818700.1875 - val_loss: 5.0209 - val_mean_absolute_percentage_error: 37.6307\n",
            "Epoch 38/50\n",
            "35/35 [==============================] - 0s 6ms/step - loss: 0.4308 - mean_absolute_percentage_error: 507016.5312 - val_loss: 4.8025 - val_mean_absolute_percentage_error: 39.2300\n",
            "Epoch 39/50\n",
            "35/35 [==============================] - 0s 6ms/step - loss: 0.4022 - mean_absolute_percentage_error: 481357.8438 - val_loss: 5.1047 - val_mean_absolute_percentage_error: 41.3343\n",
            "Epoch 40/50\n",
            "35/35 [==============================] - 0s 6ms/step - loss: 0.4060 - mean_absolute_percentage_error: 359437.7188 - val_loss: 4.6540 - val_mean_absolute_percentage_error: 35.2491\n",
            "Epoch 41/50\n",
            "35/35 [==============================] - 0s 6ms/step - loss: 0.4081 - mean_absolute_percentage_error: 744778.2500 - val_loss: 4.6362 - val_mean_absolute_percentage_error: 38.1435\n",
            "Epoch 42/50\n",
            "35/35 [==============================] - 0s 6ms/step - loss: 0.3897 - mean_absolute_percentage_error: 583082.0625 - val_loss: 4.7061 - val_mean_absolute_percentage_error: 39.0030\n",
            "Epoch 43/50\n",
            "35/35 [==============================] - 0s 6ms/step - loss: 0.3894 - mean_absolute_percentage_error: 473640.9062 - val_loss: 5.0253 - val_mean_absolute_percentage_error: 43.1403\n",
            "Epoch 44/50\n",
            "35/35 [==============================] - 0s 6ms/step - loss: 0.4098 - mean_absolute_percentage_error: 754383.1875 - val_loss: 4.7318 - val_mean_absolute_percentage_error: 43.4167\n",
            "Epoch 45/50\n",
            "35/35 [==============================] - 0s 6ms/step - loss: 0.4034 - mean_absolute_percentage_error: 289936.0312 - val_loss: 4.7358 - val_mean_absolute_percentage_error: 38.1606\n",
            "Epoch 46/50\n",
            "35/35 [==============================] - 0s 6ms/step - loss: 0.3772 - mean_absolute_percentage_error: 91027.9297 - val_loss: 4.9203 - val_mean_absolute_percentage_error: 38.8079\n",
            "Epoch 47/50\n",
            "35/35 [==============================] - 0s 6ms/step - loss: 0.3963 - mean_absolute_percentage_error: 736814.5000 - val_loss: 4.8877 - val_mean_absolute_percentage_error: 37.3739\n",
            "Epoch 48/50\n",
            "35/35 [==============================] - 0s 6ms/step - loss: 0.3744 - mean_absolute_percentage_error: 157934.7500 - val_loss: 4.8319 - val_mean_absolute_percentage_error: 39.2504\n",
            "Epoch 49/50\n",
            "35/35 [==============================] - 0s 5ms/step - loss: 0.4025 - mean_absolute_percentage_error: 190007.4219 - val_loss: 4.9367 - val_mean_absolute_percentage_error: 36.8383\n",
            "Epoch 50/50\n",
            "35/35 [==============================] - 0s 6ms/step - loss: 0.3524 - mean_absolute_percentage_error: 447664.0625 - val_loss: 4.7390 - val_mean_absolute_percentage_error: 34.9379\n",
            "Epoch 1/50\n",
            "16/16 [==============================] - 0s 14ms/step - loss: 15.2200 - mean_absolute_percentage_error: 21.9005 - val_loss: 21.6639 - val_mean_absolute_percentage_error: 41.7303\n",
            "Epoch 2/50\n",
            "16/16 [==============================] - 0s 7ms/step - loss: 14.6911 - mean_absolute_percentage_error: 23.8129 - val_loss: 21.8884 - val_mean_absolute_percentage_error: 38.8215\n",
            "Epoch 3/50\n",
            "16/16 [==============================] - 0s 6ms/step - loss: 16.5195 - mean_absolute_percentage_error: 23.8768 - val_loss: 20.2435 - val_mean_absolute_percentage_error: 42.3697\n",
            "Epoch 4/50\n",
            "16/16 [==============================] - 0s 8ms/step - loss: 14.3607 - mean_absolute_percentage_error: 23.8702 - val_loss: 22.1919 - val_mean_absolute_percentage_error: 39.3043\n",
            "Epoch 5/50\n",
            "16/16 [==============================] - 0s 6ms/step - loss: 13.4840 - mean_absolute_percentage_error: 21.8310 - val_loss: 23.6003 - val_mean_absolute_percentage_error: 39.1490\n",
            "Epoch 6/50\n",
            "16/16 [==============================] - 0s 7ms/step - loss: 12.2300 - mean_absolute_percentage_error: 21.5725 - val_loss: 21.8777 - val_mean_absolute_percentage_error: 41.6632\n",
            "Epoch 7/50\n",
            "16/16 [==============================] - 0s 6ms/step - loss: 11.6665 - mean_absolute_percentage_error: 22.3102 - val_loss: 25.9410 - val_mean_absolute_percentage_error: 45.2146\n",
            "Epoch 8/50\n",
            "16/16 [==============================] - 0s 6ms/step - loss: 14.7087 - mean_absolute_percentage_error: 24.3675 - val_loss: 22.2845 - val_mean_absolute_percentage_error: 44.4210\n",
            "Epoch 9/50\n",
            "16/16 [==============================] - 0s 7ms/step - loss: 11.3013 - mean_absolute_percentage_error: 23.2316 - val_loss: 21.6263 - val_mean_absolute_percentage_error: 43.8251\n",
            "Epoch 10/50\n",
            "16/16 [==============================] - 0s 7ms/step - loss: 10.8501 - mean_absolute_percentage_error: 22.5980 - val_loss: 29.3570 - val_mean_absolute_percentage_error: 42.0066\n",
            "Epoch 11/50\n",
            "16/16 [==============================] - 0s 6ms/step - loss: 13.6308 - mean_absolute_percentage_error: 20.7230 - val_loss: 21.5552 - val_mean_absolute_percentage_error: 46.0449\n",
            "Epoch 12/50\n",
            "16/16 [==============================] - 0s 6ms/step - loss: 13.6210 - mean_absolute_percentage_error: 22.0722 - val_loss: 35.7351 - val_mean_absolute_percentage_error: 46.2265\n",
            "Epoch 13/50\n",
            "16/16 [==============================] - 0s 7ms/step - loss: 12.7912 - mean_absolute_percentage_error: 19.7677 - val_loss: 30.7901 - val_mean_absolute_percentage_error: 41.9010\n",
            "Epoch 14/50\n",
            "16/16 [==============================] - 0s 7ms/step - loss: 12.5650 - mean_absolute_percentage_error: 20.6753 - val_loss: 22.6450 - val_mean_absolute_percentage_error: 39.7861\n",
            "Epoch 15/50\n",
            "16/16 [==============================] - 0s 7ms/step - loss: 11.2622 - mean_absolute_percentage_error: 19.0064 - val_loss: 26.1200 - val_mean_absolute_percentage_error: 43.6151\n",
            "Epoch 16/50\n",
            "16/16 [==============================] - 0s 8ms/step - loss: 12.9969 - mean_absolute_percentage_error: 22.3177 - val_loss: 24.3813 - val_mean_absolute_percentage_error: 40.5420\n",
            "Epoch 17/50\n",
            "16/16 [==============================] - 0s 7ms/step - loss: 9.1845 - mean_absolute_percentage_error: 19.3380 - val_loss: 43.4744 - val_mean_absolute_percentage_error: 47.6614\n",
            "Epoch 18/50\n",
            "16/16 [==============================] - 0s 8ms/step - loss: 14.1767 - mean_absolute_percentage_error: 21.8813 - val_loss: 24.1725 - val_mean_absolute_percentage_error: 42.5411\n",
            "Epoch 19/50\n",
            "16/16 [==============================] - 0s 7ms/step - loss: 10.8579 - mean_absolute_percentage_error: 17.9230 - val_loss: 25.9898 - val_mean_absolute_percentage_error: 43.3308\n",
            "Epoch 20/50\n",
            "16/16 [==============================] - 0s 7ms/step - loss: 12.5453 - mean_absolute_percentage_error: 19.2585 - val_loss: 22.0233 - val_mean_absolute_percentage_error: 45.8106\n",
            "Epoch 21/50\n",
            "16/16 [==============================] - 0s 8ms/step - loss: 10.8133 - mean_absolute_percentage_error: 19.8955 - val_loss: 30.1416 - val_mean_absolute_percentage_error: 44.9817\n",
            "Epoch 22/50\n",
            "16/16 [==============================] - 0s 6ms/step - loss: 12.9862 - mean_absolute_percentage_error: 20.0524 - val_loss: 22.0538 - val_mean_absolute_percentage_error: 41.4891\n",
            "Epoch 23/50\n",
            "16/16 [==============================] - 0s 7ms/step - loss: 9.8022 - mean_absolute_percentage_error: 19.5494 - val_loss: 20.8967 - val_mean_absolute_percentage_error: 41.3887\n",
            "Epoch 24/50\n",
            "16/16 [==============================] - 0s 6ms/step - loss: 11.4405 - mean_absolute_percentage_error: 19.7070 - val_loss: 28.5791 - val_mean_absolute_percentage_error: 47.2889\n",
            "Epoch 25/50\n",
            "16/16 [==============================] - 0s 8ms/step - loss: 14.9331 - mean_absolute_percentage_error: 23.0277 - val_loss: 22.6552 - val_mean_absolute_percentage_error: 41.3592\n",
            "Epoch 26/50\n",
            "16/16 [==============================] - 0s 8ms/step - loss: 9.3003 - mean_absolute_percentage_error: 17.8021 - val_loss: 22.6236 - val_mean_absolute_percentage_error: 42.8704\n",
            "Epoch 27/50\n",
            "16/16 [==============================] - 0s 7ms/step - loss: 12.7628 - mean_absolute_percentage_error: 20.5357 - val_loss: 21.4309 - val_mean_absolute_percentage_error: 41.9405\n",
            "Epoch 28/50\n",
            "16/16 [==============================] - 0s 6ms/step - loss: 10.0721 - mean_absolute_percentage_error: 17.4782 - val_loss: 28.6326 - val_mean_absolute_percentage_error: 41.0750\n",
            "Epoch 29/50\n",
            "16/16 [==============================] - 0s 6ms/step - loss: 9.9566 - mean_absolute_percentage_error: 19.9406 - val_loss: 21.3477 - val_mean_absolute_percentage_error: 39.7522\n",
            "Epoch 30/50\n",
            "16/16 [==============================] - 0s 7ms/step - loss: 10.4380 - mean_absolute_percentage_error: 18.4064 - val_loss: 33.3555 - val_mean_absolute_percentage_error: 54.0691\n",
            "Epoch 31/50\n",
            "16/16 [==============================] - 0s 8ms/step - loss: 9.7713 - mean_absolute_percentage_error: 19.5027 - val_loss: 55.7834 - val_mean_absolute_percentage_error: 54.1693\n",
            "Epoch 32/50\n",
            "16/16 [==============================] - 0s 6ms/step - loss: 14.7153 - mean_absolute_percentage_error: 19.8586 - val_loss: 21.0907 - val_mean_absolute_percentage_error: 41.5066\n",
            "Epoch 33/50\n",
            "16/16 [==============================] - 0s 7ms/step - loss: 8.6632 - mean_absolute_percentage_error: 17.0969 - val_loss: 22.8914 - val_mean_absolute_percentage_error: 44.4988\n",
            "Epoch 34/50\n",
            "16/16 [==============================] - 0s 8ms/step - loss: 11.1058 - mean_absolute_percentage_error: 19.4180 - val_loss: 22.0125 - val_mean_absolute_percentage_error: 40.1603\n",
            "Epoch 35/50\n",
            "16/16 [==============================] - 0s 7ms/step - loss: 9.5581 - mean_absolute_percentage_error: 19.2945 - val_loss: 20.5559 - val_mean_absolute_percentage_error: 44.4808\n",
            "Epoch 36/50\n",
            "16/16 [==============================] - 0s 7ms/step - loss: 11.0464 - mean_absolute_percentage_error: 17.2896 - val_loss: 23.5326 - val_mean_absolute_percentage_error: 41.6944\n",
            "Epoch 37/50\n",
            "16/16 [==============================] - 0s 6ms/step - loss: 9.2948 - mean_absolute_percentage_error: 19.8432 - val_loss: 23.0033 - val_mean_absolute_percentage_error: 45.7316\n",
            "Epoch 38/50\n",
            "16/16 [==============================] - 0s 7ms/step - loss: 11.0430 - mean_absolute_percentage_error: 17.5131 - val_loss: 25.1864 - val_mean_absolute_percentage_error: 43.5128\n",
            "Epoch 39/50\n",
            "16/16 [==============================] - 0s 6ms/step - loss: 9.6936 - mean_absolute_percentage_error: 17.4902 - val_loss: 31.3246 - val_mean_absolute_percentage_error: 44.8157\n",
            "Epoch 40/50\n",
            "16/16 [==============================] - 0s 6ms/step - loss: 11.4253 - mean_absolute_percentage_error: 18.6631 - val_loss: 28.4055 - val_mean_absolute_percentage_error: 44.7861\n",
            "Epoch 41/50\n",
            "16/16 [==============================] - 0s 8ms/step - loss: 11.0137 - mean_absolute_percentage_error: 18.0607 - val_loss: 19.9647 - val_mean_absolute_percentage_error: 44.0220\n",
            "Epoch 42/50\n",
            "16/16 [==============================] - 0s 7ms/step - loss: 10.4739 - mean_absolute_percentage_error: 18.2103 - val_loss: 21.3206 - val_mean_absolute_percentage_error: 41.8489\n",
            "Epoch 43/50\n",
            "16/16 [==============================] - 0s 8ms/step - loss: 9.0028 - mean_absolute_percentage_error: 16.3770 - val_loss: 20.8727 - val_mean_absolute_percentage_error: 44.1322\n",
            "Epoch 44/50\n",
            "16/16 [==============================] - 0s 7ms/step - loss: 9.5928 - mean_absolute_percentage_error: 18.4342 - val_loss: 42.1818 - val_mean_absolute_percentage_error: 40.4756\n",
            "Epoch 45/50\n",
            "16/16 [==============================] - 0s 8ms/step - loss: 9.5776 - mean_absolute_percentage_error: 18.3898 - val_loss: 22.8685 - val_mean_absolute_percentage_error: 41.1018\n",
            "Epoch 46/50\n",
            "16/16 [==============================] - 0s 6ms/step - loss: 10.8009 - mean_absolute_percentage_error: 17.6297 - val_loss: 30.1421 - val_mean_absolute_percentage_error: 48.0385\n",
            "Epoch 47/50\n",
            "16/16 [==============================] - 0s 7ms/step - loss: 8.9815 - mean_absolute_percentage_error: 17.3749 - val_loss: 22.2660 - val_mean_absolute_percentage_error: 46.2900\n",
            "Epoch 48/50\n",
            "16/16 [==============================] - 0s 7ms/step - loss: 10.9097 - mean_absolute_percentage_error: 19.3428 - val_loss: 20.1617 - val_mean_absolute_percentage_error: 43.3024\n",
            "Epoch 49/50\n",
            "16/16 [==============================] - 0s 8ms/step - loss: 10.4098 - mean_absolute_percentage_error: 17.7065 - val_loss: 25.1415 - val_mean_absolute_percentage_error: 45.6724\n",
            "Epoch 50/50\n",
            "16/16 [==============================] - 0s 7ms/step - loss: 10.0744 - mean_absolute_percentage_error: 18.2047 - val_loss: 21.6292 - val_mean_absolute_percentage_error: 47.3261\n"
          ]
        },
        {
          "output_type": "execute_result",
          "data": {
            "text/plain": [
              "<keras.callbacks.History at 0x7f8b757d9e90>"
            ]
          },
          "metadata": {},
          "execution_count": 51
        }
      ]
    },
    {
      "cell_type": "code",
      "source": [
        "y_pred_nn_pka_valid = pka_model.predict(X_pka_valid)\n",
        "y_pred_nn_poly_hfus_valid = hfus_model.predict(X_hfus_valid)\n",
        "print('Coefficient of determination for validation case: {}'.format(r2_score(y_pka_valid, y_pred_nn_pka_valid)))\n",
        "print('Coefficient of determination for validation case: {}'.format(r2_score(y_hfus_valid, y_pred_nn_poly_hfus_valid)))"
      ],
      "metadata": {
        "colab": {
          "base_uri": "https://localhost:8080/"
        },
        "id": "HrI6SxltSMKp",
        "outputId": "2330c983-f458-4009-d59e-150f1ae7e5d9"
      },
      "execution_count": null,
      "outputs": [
        {
          "output_type": "stream",
          "name": "stdout",
          "text": [
            "Coefficient of determination for validation case: 0.47450071428130636\n",
            "Coefficient of determination for validation case: 0.09781101120075941\n"
          ]
        }
      ]
    },
    {
      "cell_type": "code",
      "source": [
        "y_pred_nn_pka_test = pka_model.predict(X_pka_test)\n",
        "y_pred_nn_hfus_test = hfus_model.predict(X_hfus_test)\n",
        "print('Coefficient of determination for test case: {}'.format(r2_score(y_pka_test, y_pred_nn_pka_test)))\n",
        "print('Coefficient of determination for test case: {}'.format(r2_score(y_hfus_test,y_pred_nn_hfus_test)))"
      ],
      "metadata": {
        "colab": {
          "base_uri": "https://localhost:8080/"
        },
        "id": "xUOxvRfcSFQN",
        "outputId": "ce5074de-0b73-4ad3-c1ee-1fdba9141d7a"
      },
      "execution_count": null,
      "outputs": [
        {
          "output_type": "stream",
          "name": "stdout",
          "text": [
            "Coefficient of determination for test case: 0.37379748535181945\n",
            "Coefficient of determination for test case: 0.8897291700170055\n"
          ]
        }
      ]
    }
  ]
}